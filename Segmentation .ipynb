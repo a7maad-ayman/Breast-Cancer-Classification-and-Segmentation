{
 "cells": [
  {
   "cell_type": "code",
   "execution_count": 1,
   "id": "6117f1a2",
   "metadata": {},
   "outputs": [
    {
     "data": {
      "text/plain": [
       "[PhysicalDevice(name='/physical_device:GPU:0', device_type='GPU')]"
      ]
     },
     "execution_count": 1,
     "metadata": {},
     "output_type": "execute_result"
    }
   ],
   "source": [
    "import tensorflow as tf\n",
    "from tensorflow.python.client import device_lib\n",
    "tf.config.list_physical_devices('GPU')"
   ]
  },
  {
   "cell_type": "code",
   "execution_count": 2,
   "id": "dd9f1f8d",
   "metadata": {},
   "outputs": [
    {
     "data": {
      "text/plain": [
       "[name: \"/device:CPU:0\"\n",
       " device_type: \"CPU\"\n",
       " memory_limit: 268435456\n",
       " locality {\n",
       " }\n",
       " incarnation: 3953194073682209969\n",
       " xla_global_id: -1,\n",
       " name: \"/device:GPU:0\"\n",
       " device_type: \"GPU\"\n",
       " memory_limit: 2915486926\n",
       " locality {\n",
       "   bus_id: 1\n",
       "   links {\n",
       "   }\n",
       " }\n",
       " incarnation: 11989733038156719574\n",
       " physical_device_desc: \"device: 0, name: NVIDIA GeForce GTX 1050 Ti, pci bus id: 0000:01:00.0, compute capability: 6.1\"\n",
       " xla_global_id: 416903419]"
      ]
     },
     "execution_count": 2,
     "metadata": {},
     "output_type": "execute_result"
    }
   ],
   "source": [
    "device_lib.list_local_devices()"
   ]
  },
  {
   "cell_type": "code",
   "execution_count": 3,
   "id": "d334798e",
   "metadata": {},
   "outputs": [
    {
     "data": {
      "text/plain": [
       "True"
      ]
     },
     "execution_count": 3,
     "metadata": {},
     "output_type": "execute_result"
    }
   ],
   "source": [
    "tf.test.is_built_with_cuda()"
   ]
  },
  {
   "cell_type": "code",
   "execution_count": 2,
   "id": "ef7815e2",
   "metadata": {},
   "outputs": [],
   "source": [
    "import cv2 as cv\n",
    "import SimpleITK as sitk\n",
    "\n",
    "import tensorflow as tf\n",
    "\n",
    "import numpy as np\n",
    "import pandas as pd\n",
    "import matplotlib.pyplot as plt\n",
    "\n",
    "from tensorflow.keras.layers import Conv2D, MaxPool2D, Dense, Concatenate, UpSampling2D, MaxPooling2D, BatchNormalization, AveragePooling2D, ReLU, Input\n",
    "from tensorflow.keras.models import Model\n",
    "from tensorflow.keras.preprocessing.image import ImageDataGenerator\n",
    "from tensorflow.keras.callbacks import ModelCheckpoint\n",
    "\n",
    "import os \n",
    "\n",
    "from skimage import io\n",
    "import random\n",
    "\n",
    "\n",
    "from keras.models import Model, Sequential\n",
    "from keras.layers import Activation, Dense, BatchNormalization, Dropout, Conv2D, Conv2DTranspose, MaxPooling2D, UpSampling2D, Input, Reshape\n",
    "from keras.callbacks import EarlyStopping\n",
    "from keras import backend as K\n",
    "from keras.optimizers import Adam, SGD\n",
    "import tensorflow as tf\n",
    "import numpy as np\n",
    "import pandas as pd\n",
    "import glob\n",
    "import PIL\n",
    "from PIL import Image\n",
    "import matplotlib.pyplot as plt\n",
    "import cv2\n",
    "%matplotlib inline"
   ]
  },
  {
   "cell_type": "markdown",
   "id": "0db9fe35",
   "metadata": {},
   "source": [
    "***Importing the Data***"
   ]
  },
  {
   "cell_type": "code",
   "execution_count": 25,
   "id": "f651aa7b",
   "metadata": {},
   "outputs": [
    {
     "data": {
      "text/plain": [
       "2000"
      ]
     },
     "execution_count": 25,
     "metadata": {},
     "output_type": "execute_result"
    }
   ],
   "source": [
    "image_path = 'D:/faculty/4/Graduation_Project_ideas/7-medical dignoise/data/0-Data Sets/1- Training Data/ISIC-2017_Training_Data'\n",
    "train = os.listdir(image_path)\n",
    "len(train)"
   ]
  },
  {
   "cell_type": "code",
   "execution_count": 26,
   "id": "4e5774d3",
   "metadata": {},
   "outputs": [
    {
     "data": {
      "text/plain": [
       "2000"
      ]
     },
     "execution_count": 26,
     "metadata": {},
     "output_type": "execute_result"
    }
   ],
   "source": [
    "ground_path = 'D:/faculty/4/Graduation_Project_ideas/7-medical dignoise/data/0-Data Sets/2- Trainig Ground Truth/1- binary mask png format/ISIC-2017_Training_Part1_GroundTruth'\n",
    "train_gt = os.listdir(ground_path)\n",
    "len(train_gt)"
   ]
  },
  {
   "cell_type": "code",
   "execution_count": 27,
   "id": "4a41c9ce",
   "metadata": {},
   "outputs": [
    {
     "data": {
      "text/plain": [
       "600"
      ]
     },
     "execution_count": 27,
     "metadata": {},
     "output_type": "execute_result"
    }
   ],
   "source": [
    "test_path = 'D:/faculty/4/Graduation_Project_ideas/7-medical dignoise/data/0-Data Sets/5- Test Data/ISIC-2017_Test_v2_Data'\n",
    "test= os.listdir(test_path)\n",
    "len(test)"
   ]
  },
  {
   "cell_type": "code",
   "execution_count": 28,
   "id": "2358ca4e",
   "metadata": {},
   "outputs": [
    {
     "data": {
      "text/plain": [
       "600"
      ]
     },
     "execution_count": 28,
     "metadata": {},
     "output_type": "execute_result"
    }
   ],
   "source": [
    "test_ground_path = 'D:/faculty/4/Graduation_Project_ideas/7-medical dignoise\\data/0-Data Sets/6- Test Ground Truth/1/ISIC-2017_Test_v2_Part1_GroundTruth'\n",
    "test_gt = os.listdir(test_ground_path)\n",
    "len(test_gt)"
   ]
  },
  {
   "cell_type": "code",
   "execution_count": 29,
   "id": "0456f039",
   "metadata": {},
   "outputs": [
    {
     "data": {
      "text/plain": [
       "150"
      ]
     },
     "execution_count": 29,
     "metadata": {},
     "output_type": "execute_result"
    }
   ],
   "source": [
    "val_path = 'D:/faculty/4/Graduation_Project_ideas/7-medical dignoise/data/0-Data Sets/3- Validation Data/ISIC-2017_Validation_Data'\n",
    "val= os.listdir(val_path)\n",
    "len(val)"
   ]
  },
  {
   "cell_type": "code",
   "execution_count": 30,
   "id": "7224d34d",
   "metadata": {},
   "outputs": [
    {
     "data": {
      "text/plain": [
       "150"
      ]
     },
     "execution_count": 30,
     "metadata": {},
     "output_type": "execute_result"
    }
   ],
   "source": [
    "val_path_gt = 'D:/faculty/4/Graduation_Project_ideas/7-medical dignoise/data/0-Data Sets/4- Validation Ground Truth/1/ISIC-2017_Validation_Part1_GroundTruth'\n",
    "val_gt= os.listdir(val_path_gt)\n",
    "len(val_gt)"
   ]
  },
  {
   "cell_type": "markdown",
   "id": "bd1b078a",
   "metadata": {},
   "source": [
    "***Visualizing the images***"
   ]
  },
  {
   "cell_type": "code",
   "execution_count": 31,
   "id": "0fe6bc9e",
   "metadata": {},
   "outputs": [
    {
     "data": {
      "image/png": "[encoded data removed]",
      "text/plain": [
       "<Figure size 432x288 with 1 Axes>"
      ]
     },
     "metadata": {
      "needs_background": "light"
     },
     "output_type": "display_data"
    }
   ],
   "source": [
    "image_array=sitk.ReadImage(os.path.join(image_path,train[0]))           #reads the image\n",
    "plt.imshow(sitk.GetArrayFromImage(image_array))                         #gets the array from that image\n",
    "plt.show()"
   ]
  },
  {
   "cell_type": "code",
   "execution_count": 32,
   "id": "c5e00cae",
   "metadata": {},
   "outputs": [
    {
     "data": {
      "image/png": "[encoded data removed]",
      "text/plain": [
       "<Figure size 432x288 with 1 Axes>"
      ]
     },
     "metadata": {
      "needs_background": "light"
     },
     "output_type": "display_data"
    }
   ],
   "source": [
    "image_array2=cv.imread(os.path.join(ground_path,train_gt[0]))       #conversion to array in one step\n",
    "plt.imshow(image_array2)\n",
    "plt.show()"
   ]
  },
  {
   "cell_type": "code",
   "execution_count": 33,
   "id": "223c9fdc",
   "metadata": {},
   "outputs": [],
   "source": [
    "if not os.path.exists('D:/faculty/4/Graduation_Project_ideas/7-medical dignoise/data/Lesion'):\n",
    "    try:\n",
    "        os.mkdir('D:/faculty/4/Graduation_Project_ideas/7-medical dignoise/data/Lesion/')\n",
    "        os.mkdir('D:/faculty/4/Graduation_Project_ideas/7-medical dignoise/data/Lesion/Training')\n",
    "        os.mkdir('D:/faculty/4/Graduation_Project_ideas/7-medical dignoise/data/Lesion/Training_gt')\n",
    "        os.mkdir('D:/faculty/4/Graduation_Project_ideas/7-medical dignoise/data/Lesion/Test')\n",
    "        os.mkdir('D:/faculty/4/Graduation_Project_ideas/7-medical dignoise/data/Lesion/Test_gt')\n",
    "        os.mkdir('D:/faculty/4/Graduation_Project_ideas/7-medical dignoise/data/Lesion/Val')\n",
    "        os.mkdir('D:/faculty/4/Graduation_Project_ideas/7-medical dignoise/data/Lesion/Val_gt')\n",
    "    except OSError:\n",
    "        print (\"Creation of the directory %s failed\")\n",
    "    else:\n",
    "        print (\"Successfully created the directory %s \")"
   ]
  },
  {
   "cell_type": "code",
   "execution_count": 1,
   "id": "c8137986",
   "metadata": {},
   "outputs": [],
   "source": [
    "img_size = 256"
   ]
  },
  {
   "cell_type": "code",
   "execution_count": 35,
   "id": "f47c31c0",
   "metadata": {},
   "outputs": [],
   "source": [
    "training_data=[]\n",
    "\n",
    "def create_training_data():\n",
    "    \n",
    "    for images in train:     \n",
    "\n",
    "        img=sitk.ReadImage(os.path.join(image_path,images))\n",
    "        img_array=sitk.GetArrayFromImage(img)\n",
    "        new_array=cv.resize(img_array,(img_size,img_size))\n",
    "        \n",
    "        io.imsave('D:/faculty/4/Graduation_Project_ideas/7-medical dignoise/data/Lesion/Training/' + images[:-4] + '.png', new_array) #change path location\n",
    "\n",
    "        training_data.append([new_array])\n",
    "\n",
    "create_training_data()  "
   ]
  },
  {
   "cell_type": "code",
   "execution_count": null,
   "id": "4ebf82ff",
   "metadata": {},
   "outputs": [],
   "source": [
    "ground_truth_data=[]\n",
    "\n",
    "def create_ground_truth_data():\n",
    "    \n",
    "    for images in train_gt:\n",
    "        \n",
    "        img = sitk.ReadImage(os.path.join(ground_path,images))\n",
    "        img_array1= sitk.GetArrayFromImage(img)\n",
    "        new_array1=cv.resize(img_array1,(img_size,img_size))\n",
    "        \n",
    "        io.imsave('D:/faculty/4/Graduation_Project_ideas/7-medical dignoise/data/Lesion/Training_gt/' + images[:-4] + '.png', new_array1) #change path location\n",
    "        \n",
    "        ground_truth_data.append([new_array1])\n",
    "        \n",
    "        \n",
    "create_ground_truth_data()"
   ]
  },
  {
   "cell_type": "code",
   "execution_count": null,
   "id": "7167badd",
   "metadata": {},
   "outputs": [],
   "source": [
    "test_data=[]\n",
    "\n",
    "def create_test_data():\n",
    "    \n",
    "    for images in test:\n",
    "      \n",
    "        img = sitk.ReadImage(os.path.join(test_path,images))\n",
    "        img_array2 = sitk.GetArrayFromImage(img)\n",
    "        new_array2=cv.resize(img_array2,(img_size,img_size))\n",
    "        \n",
    "        io.imsave('D:/faculty/4/Graduation_Project_ideas/7-medical dignoise/data/Lesion/Test/' + images[:-4] + '.png', new_array2) #change path location\n",
    "\n",
    "        training_data.append([new_array2])\n",
    "        \n",
    "\n",
    "create_test_data() "
   ]
  },
  {
   "cell_type": "code",
   "execution_count": null,
   "id": "0d13956e",
   "metadata": {},
   "outputs": [],
   "source": [
    "test_GT_data=[]\n",
    "\n",
    "def create_test_GT_data():\n",
    "    \n",
    "    for images in test_gt:\n",
    "      \n",
    "        img = sitk.ReadImage(os.path.join(test_ground_path,images))\n",
    "        img_array3 = sitk.GetArrayFromImage(img)\n",
    "        new_array3= cv.resize(img_array3,(img_size,img_size))\n",
    "        \n",
    "        io.imsave('D:/faculty/4/Graduation_Project_ideas/7-medical dignoise/data/Lesion/Test_gt/' + images[:-4] + '.png', new_array3) #change path location\n",
    "\n",
    "        training_data.append([new_array3])\n",
    "        \n",
    "\n",
    "create_test_GT_data()  "
   ]
  },
  {
   "cell_type": "code",
   "execution_count": null,
   "id": "2e4e4b5e",
   "metadata": {},
   "outputs": [],
   "source": [
    "val_data=[]\n",
    "\n",
    "def create_val_data():\n",
    "    \n",
    "    for images in val:\n",
    "      \n",
    "        img = sitk.ReadImage(os.path.join(val_path,images))\n",
    "        img_array2 = sitk.GetArrayFromImage(img)\n",
    "        new_array2=cv.resize(img_array2,(img_size,img_size))\n",
    "        \n",
    "        io.imsave('D:/faculty/4/Graduation_Project_ideas/7-medical dignoise/data/Lesion/Val/' + images[:-4] + '.png', new_array2) #change path location\n",
    "\n",
    "        training_data.append([new_array2])    \n",
    "\n",
    "create_val_data() "
   ]
  },
  {
   "cell_type": "code",
   "execution_count": null,
   "id": "8ad07975",
   "metadata": {},
   "outputs": [],
   "source": [
    "val_GT_data=[]\n",
    "\n",
    "def create_val_GT_data():\n",
    "    \n",
    "    for images in val_gt:\n",
    "      \n",
    "        img = sitk.ReadImage(os.path.join(val_path_gt,images))\n",
    "        img_array3 = sitk.GetArrayFromImage(img)\n",
    "        new_array3= cv.resize(img_array3,(img_size,img_size))\n",
    "        \n",
    "        io.imsave('D:/faculty/4/Graduation_Project_ideas/7-medical dignoise/data/Lesion/Val_gt/' + images[:-4] + '.png', new_array3) #change path location\n",
    "\n",
    "        training_data.append([new_array3])\n",
    "        \n",
    "\n",
    "create_val_GT_data() "
   ]
  },
  {
   "cell_type": "markdown",
   "id": "26d31ab0",
   "metadata": {},
   "source": [
    "**Data Normalization and Generation** "
   ]
  },
  {
   "cell_type": "code",
   "execution_count": 4,
   "id": "ad7f5a13",
   "metadata": {},
   "outputs": [],
   "source": [
    "def loadDataTrain(df1, path1, path2):\n",
    "    \n",
    "    X1, y1 = [], []\n",
    "    \n",
    "    for i, item in df1.iterrows():\n",
    "        \n",
    "        img1 = sitk.ReadImage(path1 + item[0]+'.png')\n",
    "        img = sitk.GetArrayFromImage(img1)/255.0               #image normalization\n",
    "        \n",
    "        mask = cv.imread(path2 + item[0]+'_segmentation.png')/255.0\n",
    "            \n",
    "        X1.append(img)                                         #appends the images\n",
    "        y1.append(mask)                                        #appends the masks\n",
    "            \n",
    "    X1 = np.array(X1)\n",
    "    y1 = np.array(y1)\n",
    "    \n",
    "    return X1,y1"
   ]
  },
  {
   "cell_type": "code",
   "execution_count": 5,
   "id": "a6c139ef",
   "metadata": {},
   "outputs": [],
   "source": [
    "def loadDataTest(df2, path3, path4):\n",
    "    \n",
    "    X2, y2 = [], []\n",
    "    for i, item in df2.iterrows():\n",
    "        \n",
    "        img1 = sitk.ReadImage(path3 + item[0]+'.png')\n",
    "        img = sitk.GetArrayFromImage(img1)/255.0\n",
    "        \n",
    "        mask = cv.imread(path4 + item[0]+'_segmentation.png')/255.0\n",
    "\n",
    "        X2.append(img)\n",
    "        y2.append(mask)\n",
    "               \n",
    "    X2 = np.array(X2)\n",
    "    y2 = np.array(y2)\n",
    "    \n",
    "    return X2,y2"
   ]
  },
  {
   "cell_type": "code",
   "execution_count": 6,
   "id": "68030d69",
   "metadata": {},
   "outputs": [
    {
     "data": {
      "text/html": [
       "<div>\n",
       "<style scoped>\n",
       "    .dataframe tbody tr th:only-of-type {\n",
       "        vertical-align: middle;\n",
       "    }\n",
       "\n",
       "    .dataframe tbody tr th {\n",
       "        vertical-align: top;\n",
       "    }\n",
       "\n",
       "    .dataframe thead th {\n",
       "        text-align: right;\n",
       "    }\n",
       "</style>\n",
       "<table border=\"1\" class=\"dataframe\">\n",
       "  <thead>\n",
       "    <tr style=\"text-align: right;\">\n",
       "      <th></th>\n",
       "      <th>image_id</th>\n",
       "      <th>age_approximate</th>\n",
       "      <th>sex</th>\n",
       "    </tr>\n",
       "  </thead>\n",
       "  <tbody>\n",
       "    <tr>\n",
       "      <th>0</th>\n",
       "      <td>ISIC_0000000</td>\n",
       "      <td>55</td>\n",
       "      <td>female</td>\n",
       "    </tr>\n",
       "    <tr>\n",
       "      <th>1</th>\n",
       "      <td>ISIC_0000001</td>\n",
       "      <td>30</td>\n",
       "      <td>female</td>\n",
       "    </tr>\n",
       "    <tr>\n",
       "      <th>2</th>\n",
       "      <td>ISIC_0000002</td>\n",
       "      <td>60</td>\n",
       "      <td>female</td>\n",
       "    </tr>\n",
       "    <tr>\n",
       "      <th>3</th>\n",
       "      <td>ISIC_0000003</td>\n",
       "      <td>30</td>\n",
       "      <td>male</td>\n",
       "    </tr>\n",
       "    <tr>\n",
       "      <th>4</th>\n",
       "      <td>ISIC_0000004</td>\n",
       "      <td>80</td>\n",
       "      <td>male</td>\n",
       "    </tr>\n",
       "  </tbody>\n",
       "</table>\n",
       "</div>"
      ],
      "text/plain": [
       "       image_id age_approximate     sex\n",
       "0  ISIC_0000000              55  female\n",
       "1  ISIC_0000001              30  female\n",
       "2  ISIC_0000002              60  female\n",
       "3  ISIC_0000003              30    male\n",
       "4  ISIC_0000004              80    male"
      ]
     },
     "execution_count": 6,
     "metadata": {},
     "output_type": "execute_result"
    }
   ],
   "source": [
    "df1 = pd.read_csv('D:/faculty/4/Graduation_Project_ideas/7-medical dignoise/data/0-Data Sets/1- Training Data/ISIC-2017_Training_Data_metadata.csv')   \n",
    "df1.head()"
   ]
  },
  {
   "cell_type": "code",
   "execution_count": 7,
   "id": "83fc4acd",
   "metadata": {},
   "outputs": [],
   "source": [
    "df1 = df1.sample(frac=1, random_state=23)"
   ]
  },
  {
   "cell_type": "code",
   "execution_count": 8,
   "id": "87127974",
   "metadata": {},
   "outputs": [
    {
     "data": {
      "text/html": [
       "<div>\n",
       "<style scoped>\n",
       "    .dataframe tbody tr th:only-of-type {\n",
       "        vertical-align: middle;\n",
       "    }\n",
       "\n",
       "    .dataframe tbody tr th {\n",
       "        vertical-align: top;\n",
       "    }\n",
       "\n",
       "    .dataframe thead th {\n",
       "        text-align: right;\n",
       "    }\n",
       "</style>\n",
       "<table border=\"1\" class=\"dataframe\">\n",
       "  <thead>\n",
       "    <tr style=\"text-align: right;\">\n",
       "      <th></th>\n",
       "      <th>image_id</th>\n",
       "      <th>age_approximate</th>\n",
       "      <th>sex</th>\n",
       "    </tr>\n",
       "  </thead>\n",
       "  <tbody>\n",
       "    <tr>\n",
       "      <th>0</th>\n",
       "      <td>ISIC_0012086</td>\n",
       "      <td>30</td>\n",
       "      <td>male</td>\n",
       "    </tr>\n",
       "    <tr>\n",
       "      <th>1</th>\n",
       "      <td>ISIC_0012092</td>\n",
       "      <td>40</td>\n",
       "      <td>male</td>\n",
       "    </tr>\n",
       "    <tr>\n",
       "      <th>2</th>\n",
       "      <td>ISIC_0012095</td>\n",
       "      <td>25</td>\n",
       "      <td>male</td>\n",
       "    </tr>\n",
       "    <tr>\n",
       "      <th>3</th>\n",
       "      <td>ISIC_0012134</td>\n",
       "      <td>75</td>\n",
       "      <td>female</td>\n",
       "    </tr>\n",
       "    <tr>\n",
       "      <th>4</th>\n",
       "      <td>ISIC_0012136</td>\n",
       "      <td>70</td>\n",
       "      <td>male</td>\n",
       "    </tr>\n",
       "  </tbody>\n",
       "</table>\n",
       "</div>"
      ],
      "text/plain": [
       "       image_id age_approximate     sex\n",
       "0  ISIC_0012086              30    male\n",
       "1  ISIC_0012092              40    male\n",
       "2  ISIC_0012095              25    male\n",
       "3  ISIC_0012134              75  female\n",
       "4  ISIC_0012136              70    male"
      ]
     },
     "execution_count": 8,
     "metadata": {},
     "output_type": "execute_result"
    }
   ],
   "source": [
    "df2= pd.read_csv('D:/faculty/4/Graduation_Project_ideas/7-medical dignoise/data/0-Data Sets/5- Test Data/ISIC-2017_Test_v2_Data_metadata.csv')\n",
    "df2.head()"
   ]
  },
  {
   "cell_type": "code",
   "execution_count": 9,
   "id": "2f1f2e76",
   "metadata": {},
   "outputs": [],
   "source": [
    "df2 = df2.sample(frac=1, random_state=23)"
   ]
  },
  {
   "cell_type": "code",
   "execution_count": 10,
   "id": "d9f1ea91",
   "metadata": {},
   "outputs": [],
   "source": [
    "path1 = 'D:/faculty/4/Graduation_Project_ideas/7-medical dignoise/data/Lesion/Training/'\n",
    "path2 = 'D:/faculty/4/Graduation_Project_ideas/7-medical dignoise/data/Lesion/Training_gt/'\n",
    "\n",
    "path3 = 'D:/faculty/4/Graduation_Project_ideas/7-medical dignoise/data/Lesion/Test/'\n",
    "path4 = 'D:/faculty/4/Graduation_Project_ideas/7-medical dignoise/data/Lesion/Test_gt/'"
   ]
  },
  {
   "cell_type": "markdown",
   "id": "8ffe8d66",
   "metadata": {},
   "source": [
    "**Creating X train/test and Y train/test data**"
   ]
  },
  {
   "cell_type": "code",
   "execution_count": 11,
   "id": "cf951641",
   "metadata": {},
   "outputs": [],
   "source": [
    "X_train, y_train = loadDataTrain(df1, path1, path2)"
   ]
  },
  {
   "cell_type": "code",
   "execution_count": 12,
   "id": "80ba8222",
   "metadata": {},
   "outputs": [],
   "source": [
    "X_test, y_test = loadDataTest(df2, path3, path4)"
   ]
  },
  {
   "cell_type": "code",
   "execution_count": 13,
   "id": "9542a0c7",
   "metadata": {},
   "outputs": [
    {
     "data": {
      "text/plain": [
       "(2000, 256, 256, 3)"
      ]
     },
     "execution_count": 13,
     "metadata": {},
     "output_type": "execute_result"
    }
   ],
   "source": [
    "X_train.shape"
   ]
  },
  {
   "cell_type": "code",
   "execution_count": 14,
   "id": "921becc9",
   "metadata": {},
   "outputs": [
    {
     "data": {
      "text/plain": [
       "(2000, 256, 256, 3)"
      ]
     },
     "execution_count": 14,
     "metadata": {},
     "output_type": "execute_result"
    }
   ],
   "source": [
    "y_train.shape"
   ]
  },
  {
   "cell_type": "code",
   "execution_count": 15,
   "id": "0224c99e",
   "metadata": {},
   "outputs": [
    {
     "data": {
      "text/plain": [
       "(600, 256, 256, 3)"
      ]
     },
     "execution_count": 15,
     "metadata": {},
     "output_type": "execute_result"
    }
   ],
   "source": [
    "X_test.shape"
   ]
  },
  {
   "cell_type": "code",
   "execution_count": 16,
   "id": "3b319b35",
   "metadata": {},
   "outputs": [
    {
     "data": {
      "text/plain": [
       "(600, 256, 256, 3)"
      ]
     },
     "execution_count": 16,
     "metadata": {},
     "output_type": "execute_result"
    }
   ],
   "source": [
    "y_test.shape"
   ]
  },
  {
   "cell_type": "markdown",
   "id": "1f5a03ee",
   "metadata": {},
   "source": [
    "***Visualizing Data after Processing***"
   ]
  },
  {
   "cell_type": "code",
   "execution_count": 17,
   "id": "0b820db0",
   "metadata": {},
   "outputs": [],
   "source": [
    "r = random.randint(0, len(X_train)-1)"
   ]
  },
  {
   "cell_type": "code",
   "execution_count": 18,
   "id": "bfc54cc7",
   "metadata": {},
   "outputs": [
    {
     "data": {
      "text/plain": [
       "<matplotlib.image.AxesImage at 0x1e78b71f7f0>"
      ]
     },
     "execution_count": 18,
     "metadata": {},
     "output_type": "execute_result"
    },
    {
     "data": {
      "image/png": "[encoded data removed]",
      "text/plain": [
       "<Figure size 432x288 with 2 Axes>"
      ]
     },
     "metadata": {
      "needs_background": "light"
     },
     "output_type": "display_data"
    }
   ],
   "source": [
    "fig = plt.figure()\n",
    "fig.subplots_adjust(hspace=0.4, wspace=0.4)\n",
    "ax = fig.add_subplot(1, 2, 1)\n",
    "ax.imshow(X_train[r])\n",
    "ax = fig.add_subplot(1, 2, 2)\n",
    "ax.imshow(y_train[r])"
   ]
  },
  {
   "cell_type": "code",
   "execution_count": 19,
   "id": "34c37ca5",
   "metadata": {},
   "outputs": [],
   "source": [
    "r = random.randint(0, len(X_train)-1)"
   ]
  },
  {
   "cell_type": "code",
   "execution_count": 20,
   "id": "99c69c2c",
   "metadata": {},
   "outputs": [
    {
     "data": {
      "text/plain": [
       "<matplotlib.image.AxesImage at 0x1e78bb7beb0>"
      ]
     },
     "execution_count": 20,
     "metadata": {},
     "output_type": "execute_result"
    },
    {
     "data": {
      "image/png": "[encoded data removed]",
      "text/plain": [
       "<Figure size 432x288 with 2 Axes>"
      ]
     },
     "metadata": {
      "needs_background": "light"
     },
     "output_type": "display_data"
    }
   ],
   "source": [
    "fig = plt.figure()\n",
    "fig.subplots_adjust(hspace=0.4, wspace=0.4)\n",
    "ax = fig.add_subplot(1, 2, 1)\n",
    "ax.imshow(X_train[r])\n",
    "ax = fig.add_subplot(1, 2, 2)\n",
    "ax.imshow(y_train[r])"
   ]
  },
  {
   "cell_type": "code",
   "execution_count": 21,
   "id": "8c535542",
   "metadata": {},
   "outputs": [],
   "source": [
    "def convolution_operation(entered_input, filters=64):\n",
    "    conv1 = Conv2D(filters, kernel_size = (1,1), padding = \"same\")(entered_input)\n",
    "    print(conv1)\n",
    "    conv2 = Conv2D(filters, kernel_size = (3,3), padding = \"same\")(conv1)\n",
    "    print(conv2,)\n",
    "    return conv2  "
   ]
  },
  {
   "cell_type": "code",
   "execution_count": 22,
   "id": "eed314f1",
   "metadata": {},
   "outputs": [],
   "source": [
    "def encoder(l, entered_input, filters=64):\n",
    "    for i in range (l):\n",
    "          enc1 = convolution_operation(entered_input, filters)\n",
    "    #transition_layer\n",
    "    conv1 = Conv2D(filters=128, kernel_size = (1,1), padding = \"same\")(enc1)\n",
    "    AvgPooling = AveragePooling2D(pool_size=(2,2),strides = (2,2))(conv1)\n",
    "    return enc1, AvgPooling "
   ]
  },
  {
   "cell_type": "code",
   "execution_count": 23,
   "id": "76d507ae",
   "metadata": {},
   "outputs": [],
   "source": [
    "def convolution_operation2(entered_input, filters):\n",
    "    conv3 = Conv2D(filters, kernel_size = (3,3), padding = \"same\")(entered_input)\n",
    "    bn = BatchNormalization()(conv3)\n",
    "    relu = ReLU()(bn)\n",
    "    return relu"
   ]
  },
  {
   "cell_type": "code",
   "execution_count": 24,
   "id": "6e437e93",
   "metadata": {},
   "outputs": [],
   "source": [
    "def decoder(entered_input, skip, filters):\n",
    "    # Upsampling and concatenating the essential features\n",
    "    Upsample = UpSampling2D(size =(2,2))(entered_input)\n",
    "    Upsample = convolution_operation2(Upsample,filters)\n",
    "    Connect_Skip = Concatenate()([Upsample, skip])\n",
    "    conv_BN_Relu = convolution_operation2(Connect_Skip, filters)\n",
    "    return conv_BN_Relu"
   ]
  },
  {
   "cell_type": "code",
   "execution_count": 25,
   "id": "16750d37",
   "metadata": {},
   "outputs": [],
   "source": [
    "def U_Net():\n",
    "    # Take the image size and shape\n",
    "    input1 = Input((256,256,3))\n",
    "    conv7_7 = Conv2D(32, kernel_size = (7,7),strides=(2,2), padding = \"same\")(input1)\n",
    "    maxPooling = MaxPooling2D(pool_size=(3,3),strides = (2,2),padding='same')(conv7_7)\n",
    "    # Construct the encoder blocks\n",
    "    skip1, encoder_1 = encoder(6, maxPooling, 64)\n",
    "    skip2, encoder_2 = encoder(12, encoder_1, 64*2)\n",
    "    skip3, encoder_3 = encoder(48, encoder_2, 64*4)\n",
    "    ##bottle neck\n",
    "    for i in range(32):\n",
    "       encoder_4 = convolution_operation(encoder_3, 64*8)\n",
    "    # Construct the decoder blocks\n",
    "    decoder_1 = decoder(encoder_4, skip3, 512 )\n",
    "    decoder_2 = decoder(decoder_1, skip2, 256)\n",
    "    decoder_3 = decoder(decoder_2, skip1, 96)\n",
    "    decoder_4 = decoder(decoder_3, conv7_7, 96)\n",
    "    decoder_5 = decoder(decoder_4, input1, 64)\n",
    "    ###OUTPUT LAYER\n",
    "    output = Conv2D(3,(1,1),padding='same',activation=\"sigmoid\")(decoder_5)\n",
    "    model = Model(input1, output)\n",
    "    return model"
   ]
  },
  {
   "cell_type": "code",
   "execution_count": 26,
   "id": "67115d3d",
   "metadata": {},
   "outputs": [
    {
     "name": "stdout",
     "output_type": "stream",
     "text": [
      "KerasTensor(type_spec=TensorSpec(shape=(None, 64, 64, 64), dtype=tf.float32, name=None), name='conv2d_1/BiasAdd:0', description=\"created by layer 'conv2d_1'\")\n",
      "KerasTensor(type_spec=TensorSpec(shape=(None, 64, 64, 64), dtype=tf.float32, name=None), name='conv2d_2/BiasAdd:0', description=\"created by layer 'conv2d_2'\")\n",
      "KerasTensor(type_spec=TensorSpec(shape=(None, 64, 64, 64), dtype=tf.float32, name=None), name='conv2d_3/BiasAdd:0', description=\"created by layer 'conv2d_3'\")\n",
      "KerasTensor(type_spec=TensorSpec(shape=(None, 64, 64, 64), dtype=tf.float32, name=None), name='conv2d_4/BiasAdd:0', description=\"created by layer 'conv2d_4'\")\n",
      "KerasTensor(type_spec=TensorSpec(shape=(None, 64, 64, 64), dtype=tf.float32, name=None), name='conv2d_5/BiasAdd:0', description=\"created by layer 'conv2d_5'\")\n",
      "KerasTensor(type_spec=TensorSpec(shape=(None, 64, 64, 64), dtype=tf.float32, name=None), name='conv2d_6/BiasAdd:0', description=\"created by layer 'conv2d_6'\")\n",
      "KerasTensor(type_spec=TensorSpec(shape=(None, 64, 64, 64), dtype=tf.float32, name=None), name='conv2d_7/BiasAdd:0', description=\"created by layer 'conv2d_7'\")\n",
      "KerasTensor(type_spec=TensorSpec(shape=(None, 64, 64, 64), dtype=tf.float32, name=None), name='conv2d_8/BiasAdd:0', description=\"created by layer 'conv2d_8'\")\n",
      "KerasTensor(type_spec=TensorSpec(shape=(None, 64, 64, 64), dtype=tf.float32, name=None), name='conv2d_9/BiasAdd:0', description=\"created by layer 'conv2d_9'\")\n",
      "KerasTensor(type_spec=TensorSpec(shape=(None, 64, 64, 64), dtype=tf.float32, name=None), name='conv2d_10/BiasAdd:0', description=\"created by layer 'conv2d_10'\")\n",
      "KerasTensor(type_spec=TensorSpec(shape=(None, 64, 64, 64), dtype=tf.float32, name=None), name='conv2d_11/BiasAdd:0', description=\"created by layer 'conv2d_11'\")\n",
      "KerasTensor(type_spec=TensorSpec(shape=(None, 64, 64, 64), dtype=tf.float32, name=None), name='conv2d_12/BiasAdd:0', description=\"created by layer 'conv2d_12'\")\n",
      "KerasTensor(type_spec=TensorSpec(shape=(None, 32, 32, 128), dtype=tf.float32, name=None), name='conv2d_14/BiasAdd:0', description=\"created by layer 'conv2d_14'\")\n",
      "KerasTensor(type_spec=TensorSpec(shape=(None, 32, 32, 128), dtype=tf.float32, name=None), name='conv2d_15/BiasAdd:0', description=\"created by layer 'conv2d_15'\")\n",
      "KerasTensor(type_spec=TensorSpec(shape=(None, 32, 32, 128), dtype=tf.float32, name=None), name='conv2d_16/BiasAdd:0', description=\"created by layer 'conv2d_16'\")\n",
      "KerasTensor(type_spec=TensorSpec(shape=(None, 32, 32, 128), dtype=tf.float32, name=None), name='conv2d_17/BiasAdd:0', description=\"created by layer 'conv2d_17'\")\n",
      "KerasTensor(type_spec=TensorSpec(shape=(None, 32, 32, 128), dtype=tf.float32, name=None), name='conv2d_18/BiasAdd:0', description=\"created by layer 'conv2d_18'\")\n",
      "KerasTensor(type_spec=TensorSpec(shape=(None, 32, 32, 128), dtype=tf.float32, name=None), name='conv2d_19/BiasAdd:0', description=\"created by layer 'conv2d_19'\")\n",
      "KerasTensor(type_spec=TensorSpec(shape=(None, 32, 32, 128), dtype=tf.float32, name=None), name='conv2d_20/BiasAdd:0', description=\"created by layer 'conv2d_20'\")\n",
      "KerasTensor(type_spec=TensorSpec(shape=(None, 32, 32, 128), dtype=tf.float32, name=None), name='conv2d_21/BiasAdd:0', description=\"created by layer 'conv2d_21'\")\n",
      "KerasTensor(type_spec=TensorSpec(shape=(None, 32, 32, 128), dtype=tf.float32, name=None), name='conv2d_22/BiasAdd:0', description=\"created by layer 'conv2d_22'\")\n",
      "KerasTensor(type_spec=TensorSpec(shape=(None, 32, 32, 128), dtype=tf.float32, name=None), name='conv2d_23/BiasAdd:0', description=\"created by layer 'conv2d_23'\")\n",
      "KerasTensor(type_spec=TensorSpec(shape=(None, 32, 32, 128), dtype=tf.float32, name=None), name='conv2d_24/BiasAdd:0', description=\"created by layer 'conv2d_24'\")\n",
      "KerasTensor(type_spec=TensorSpec(shape=(None, 32, 32, 128), dtype=tf.float32, name=None), name='conv2d_25/BiasAdd:0', description=\"created by layer 'conv2d_25'\")\n",
      "KerasTensor(type_spec=TensorSpec(shape=(None, 32, 32, 128), dtype=tf.float32, name=None), name='conv2d_26/BiasAdd:0', description=\"created by layer 'conv2d_26'\")\n",
      "KerasTensor(type_spec=TensorSpec(shape=(None, 32, 32, 128), dtype=tf.float32, name=None), name='conv2d_27/BiasAdd:0', description=\"created by layer 'conv2d_27'\")\n",
      "KerasTensor(type_spec=TensorSpec(shape=(None, 32, 32, 128), dtype=tf.float32, name=None), name='conv2d_28/BiasAdd:0', description=\"created by layer 'conv2d_28'\")\n",
      "KerasTensor(type_spec=TensorSpec(shape=(None, 32, 32, 128), dtype=tf.float32, name=None), name='conv2d_29/BiasAdd:0', description=\"created by layer 'conv2d_29'\")\n",
      "KerasTensor(type_spec=TensorSpec(shape=(None, 32, 32, 128), dtype=tf.float32, name=None), name='conv2d_30/BiasAdd:0', description=\"created by layer 'conv2d_30'\")\n",
      "KerasTensor(type_spec=TensorSpec(shape=(None, 32, 32, 128), dtype=tf.float32, name=None), name='conv2d_31/BiasAdd:0', description=\"created by layer 'conv2d_31'\")\n",
      "KerasTensor(type_spec=TensorSpec(shape=(None, 32, 32, 128), dtype=tf.float32, name=None), name='conv2d_32/BiasAdd:0', description=\"created by layer 'conv2d_32'\")\n",
      "KerasTensor(type_spec=TensorSpec(shape=(None, 32, 32, 128), dtype=tf.float32, name=None), name='conv2d_33/BiasAdd:0', description=\"created by layer 'conv2d_33'\")\n",
      "KerasTensor(type_spec=TensorSpec(shape=(None, 32, 32, 128), dtype=tf.float32, name=None), name='conv2d_34/BiasAdd:0', description=\"created by layer 'conv2d_34'\")\n",
      "KerasTensor(type_spec=TensorSpec(shape=(None, 32, 32, 128), dtype=tf.float32, name=None), name='conv2d_35/BiasAdd:0', description=\"created by layer 'conv2d_35'\")\n",
      "KerasTensor(type_spec=TensorSpec(shape=(None, 32, 32, 128), dtype=tf.float32, name=None), name='conv2d_36/BiasAdd:0', description=\"created by layer 'conv2d_36'\")\n",
      "KerasTensor(type_spec=TensorSpec(shape=(None, 32, 32, 128), dtype=tf.float32, name=None), name='conv2d_37/BiasAdd:0', description=\"created by layer 'conv2d_37'\")\n",
      "KerasTensor(type_spec=TensorSpec(shape=(None, 16, 16, 256), dtype=tf.float32, name=None), name='conv2d_39/BiasAdd:0', description=\"created by layer 'conv2d_39'\")\n",
      "KerasTensor(type_spec=TensorSpec(shape=(None, 16, 16, 256), dtype=tf.float32, name=None), name='conv2d_40/BiasAdd:0', description=\"created by layer 'conv2d_40'\")\n",
      "KerasTensor(type_spec=TensorSpec(shape=(None, 16, 16, 256), dtype=tf.float32, name=None), name='conv2d_41/BiasAdd:0', description=\"created by layer 'conv2d_41'\")\n",
      "KerasTensor(type_spec=TensorSpec(shape=(None, 16, 16, 256), dtype=tf.float32, name=None), name='conv2d_42/BiasAdd:0', description=\"created by layer 'conv2d_42'\")\n",
      "KerasTensor(type_spec=TensorSpec(shape=(None, 16, 16, 256), dtype=tf.float32, name=None), name='conv2d_43/BiasAdd:0', description=\"created by layer 'conv2d_43'\")\n",
      "KerasTensor(type_spec=TensorSpec(shape=(None, 16, 16, 256), dtype=tf.float32, name=None), name='conv2d_44/BiasAdd:0', description=\"created by layer 'conv2d_44'\")\n",
      "KerasTensor(type_spec=TensorSpec(shape=(None, 16, 16, 256), dtype=tf.float32, name=None), name='conv2d_45/BiasAdd:0', description=\"created by layer 'conv2d_45'\")\n",
      "KerasTensor(type_spec=TensorSpec(shape=(None, 16, 16, 256), dtype=tf.float32, name=None), name='conv2d_46/BiasAdd:0', description=\"created by layer 'conv2d_46'\")\n",
      "KerasTensor(type_spec=TensorSpec(shape=(None, 16, 16, 256), dtype=tf.float32, name=None), name='conv2d_47/BiasAdd:0', description=\"created by layer 'conv2d_47'\")\n",
      "KerasTensor(type_spec=TensorSpec(shape=(None, 16, 16, 256), dtype=tf.float32, name=None), name='conv2d_48/BiasAdd:0', description=\"created by layer 'conv2d_48'\")\n",
      "KerasTensor(type_spec=TensorSpec(shape=(None, 16, 16, 256), dtype=tf.float32, name=None), name='conv2d_49/BiasAdd:0', description=\"created by layer 'conv2d_49'\")\n",
      "KerasTensor(type_spec=TensorSpec(shape=(None, 16, 16, 256), dtype=tf.float32, name=None), name='conv2d_50/BiasAdd:0', description=\"created by layer 'conv2d_50'\")\n",
      "KerasTensor(type_spec=TensorSpec(shape=(None, 16, 16, 256), dtype=tf.float32, name=None), name='conv2d_51/BiasAdd:0', description=\"created by layer 'conv2d_51'\")\n",
      "KerasTensor(type_spec=TensorSpec(shape=(None, 16, 16, 256), dtype=tf.float32, name=None), name='conv2d_52/BiasAdd:0', description=\"created by layer 'conv2d_52'\")\n",
      "KerasTensor(type_spec=TensorSpec(shape=(None, 16, 16, 256), dtype=tf.float32, name=None), name='conv2d_53/BiasAdd:0', description=\"created by layer 'conv2d_53'\")\n"
     ]
    },
    {
     "name": "stdout",
     "output_type": "stream",
     "text": [
      "KerasTensor(type_spec=TensorSpec(shape=(None, 16, 16, 256), dtype=tf.float32, name=None), name='conv2d_54/BiasAdd:0', description=\"created by layer 'conv2d_54'\")\n",
      "KerasTensor(type_spec=TensorSpec(shape=(None, 16, 16, 256), dtype=tf.float32, name=None), name='conv2d_55/BiasAdd:0', description=\"created by layer 'conv2d_55'\")\n",
      "KerasTensor(type_spec=TensorSpec(shape=(None, 16, 16, 256), dtype=tf.float32, name=None), name='conv2d_56/BiasAdd:0', description=\"created by layer 'conv2d_56'\")\n",
      "KerasTensor(type_spec=TensorSpec(shape=(None, 16, 16, 256), dtype=tf.float32, name=None), name='conv2d_57/BiasAdd:0', description=\"created by layer 'conv2d_57'\")\n",
      "KerasTensor(type_spec=TensorSpec(shape=(None, 16, 16, 256), dtype=tf.float32, name=None), name='conv2d_58/BiasAdd:0', description=\"created by layer 'conv2d_58'\")\n",
      "KerasTensor(type_spec=TensorSpec(shape=(None, 16, 16, 256), dtype=tf.float32, name=None), name='conv2d_59/BiasAdd:0', description=\"created by layer 'conv2d_59'\")\n",
      "KerasTensor(type_spec=TensorSpec(shape=(None, 16, 16, 256), dtype=tf.float32, name=None), name='conv2d_60/BiasAdd:0', description=\"created by layer 'conv2d_60'\")\n",
      "KerasTensor(type_spec=TensorSpec(shape=(None, 16, 16, 256), dtype=tf.float32, name=None), name='conv2d_61/BiasAdd:0', description=\"created by layer 'conv2d_61'\")\n",
      "KerasTensor(type_spec=TensorSpec(shape=(None, 16, 16, 256), dtype=tf.float32, name=None), name='conv2d_62/BiasAdd:0', description=\"created by layer 'conv2d_62'\")\n",
      "KerasTensor(type_spec=TensorSpec(shape=(None, 16, 16, 256), dtype=tf.float32, name=None), name='conv2d_63/BiasAdd:0', description=\"created by layer 'conv2d_63'\")\n",
      "KerasTensor(type_spec=TensorSpec(shape=(None, 16, 16, 256), dtype=tf.float32, name=None), name='conv2d_64/BiasAdd:0', description=\"created by layer 'conv2d_64'\")\n",
      "KerasTensor(type_spec=TensorSpec(shape=(None, 16, 16, 256), dtype=tf.float32, name=None), name='conv2d_65/BiasAdd:0', description=\"created by layer 'conv2d_65'\")\n",
      "KerasTensor(type_spec=TensorSpec(shape=(None, 16, 16, 256), dtype=tf.float32, name=None), name='conv2d_66/BiasAdd:0', description=\"created by layer 'conv2d_66'\")\n",
      "KerasTensor(type_spec=TensorSpec(shape=(None, 16, 16, 256), dtype=tf.float32, name=None), name='conv2d_67/BiasAdd:0', description=\"created by layer 'conv2d_67'\")\n",
      "KerasTensor(type_spec=TensorSpec(shape=(None, 16, 16, 256), dtype=tf.float32, name=None), name='conv2d_68/BiasAdd:0', description=\"created by layer 'conv2d_68'\")\n",
      "KerasTensor(type_spec=TensorSpec(shape=(None, 16, 16, 256), dtype=tf.float32, name=None), name='conv2d_69/BiasAdd:0', description=\"created by layer 'conv2d_69'\")\n",
      "KerasTensor(type_spec=TensorSpec(shape=(None, 16, 16, 256), dtype=tf.float32, name=None), name='conv2d_70/BiasAdd:0', description=\"created by layer 'conv2d_70'\")\n",
      "KerasTensor(type_spec=TensorSpec(shape=(None, 16, 16, 256), dtype=tf.float32, name=None), name='conv2d_71/BiasAdd:0', description=\"created by layer 'conv2d_71'\")\n",
      "KerasTensor(type_spec=TensorSpec(shape=(None, 16, 16, 256), dtype=tf.float32, name=None), name='conv2d_72/BiasAdd:0', description=\"created by layer 'conv2d_72'\")\n",
      "KerasTensor(type_spec=TensorSpec(shape=(None, 16, 16, 256), dtype=tf.float32, name=None), name='conv2d_73/BiasAdd:0', description=\"created by layer 'conv2d_73'\")\n",
      "KerasTensor(type_spec=TensorSpec(shape=(None, 16, 16, 256), dtype=tf.float32, name=None), name='conv2d_74/BiasAdd:0', description=\"created by layer 'conv2d_74'\")\n",
      "KerasTensor(type_spec=TensorSpec(shape=(None, 16, 16, 256), dtype=tf.float32, name=None), name='conv2d_75/BiasAdd:0', description=\"created by layer 'conv2d_75'\")\n",
      "KerasTensor(type_spec=TensorSpec(shape=(None, 16, 16, 256), dtype=tf.float32, name=None), name='conv2d_76/BiasAdd:0', description=\"created by layer 'conv2d_76'\")\n",
      "KerasTensor(type_spec=TensorSpec(shape=(None, 16, 16, 256), dtype=tf.float32, name=None), name='conv2d_77/BiasAdd:0', description=\"created by layer 'conv2d_77'\")\n",
      "KerasTensor(type_spec=TensorSpec(shape=(None, 16, 16, 256), dtype=tf.float32, name=None), name='conv2d_78/BiasAdd:0', description=\"created by layer 'conv2d_78'\")\n",
      "KerasTensor(type_spec=TensorSpec(shape=(None, 16, 16, 256), dtype=tf.float32, name=None), name='conv2d_79/BiasAdd:0', description=\"created by layer 'conv2d_79'\")\n",
      "KerasTensor(type_spec=TensorSpec(shape=(None, 16, 16, 256), dtype=tf.float32, name=None), name='conv2d_80/BiasAdd:0', description=\"created by layer 'conv2d_80'\")\n",
      "KerasTensor(type_spec=TensorSpec(shape=(None, 16, 16, 256), dtype=tf.float32, name=None), name='conv2d_81/BiasAdd:0', description=\"created by layer 'conv2d_81'\")\n",
      "KerasTensor(type_spec=TensorSpec(shape=(None, 16, 16, 256), dtype=tf.float32, name=None), name='conv2d_82/BiasAdd:0', description=\"created by layer 'conv2d_82'\")\n",
      "KerasTensor(type_spec=TensorSpec(shape=(None, 16, 16, 256), dtype=tf.float32, name=None), name='conv2d_83/BiasAdd:0', description=\"created by layer 'conv2d_83'\")\n",
      "KerasTensor(type_spec=TensorSpec(shape=(None, 16, 16, 256), dtype=tf.float32, name=None), name='conv2d_84/BiasAdd:0', description=\"created by layer 'conv2d_84'\")\n",
      "KerasTensor(type_spec=TensorSpec(shape=(None, 16, 16, 256), dtype=tf.float32, name=None), name='conv2d_85/BiasAdd:0', description=\"created by layer 'conv2d_85'\")\n",
      "KerasTensor(type_spec=TensorSpec(shape=(None, 16, 16, 256), dtype=tf.float32, name=None), name='conv2d_86/BiasAdd:0', description=\"created by layer 'conv2d_86'\")\n",
      "KerasTensor(type_spec=TensorSpec(shape=(None, 16, 16, 256), dtype=tf.float32, name=None), name='conv2d_87/BiasAdd:0', description=\"created by layer 'conv2d_87'\")\n",
      "KerasTensor(type_spec=TensorSpec(shape=(None, 16, 16, 256), dtype=tf.float32, name=None), name='conv2d_88/BiasAdd:0', description=\"created by layer 'conv2d_88'\")\n",
      "KerasTensor(type_spec=TensorSpec(shape=(None, 16, 16, 256), dtype=tf.float32, name=None), name='conv2d_89/BiasAdd:0', description=\"created by layer 'conv2d_89'\")\n",
      "KerasTensor(type_spec=TensorSpec(shape=(None, 16, 16, 256), dtype=tf.float32, name=None), name='conv2d_90/BiasAdd:0', description=\"created by layer 'conv2d_90'\")\n",
      "KerasTensor(type_spec=TensorSpec(shape=(None, 16, 16, 256), dtype=tf.float32, name=None), name='conv2d_91/BiasAdd:0', description=\"created by layer 'conv2d_91'\")\n",
      "KerasTensor(type_spec=TensorSpec(shape=(None, 16, 16, 256), dtype=tf.float32, name=None), name='conv2d_92/BiasAdd:0', description=\"created by layer 'conv2d_92'\")\n",
      "KerasTensor(type_spec=TensorSpec(shape=(None, 16, 16, 256), dtype=tf.float32, name=None), name='conv2d_93/BiasAdd:0', description=\"created by layer 'conv2d_93'\")\n",
      "KerasTensor(type_spec=TensorSpec(shape=(None, 16, 16, 256), dtype=tf.float32, name=None), name='conv2d_94/BiasAdd:0', description=\"created by layer 'conv2d_94'\")\n",
      "KerasTensor(type_spec=TensorSpec(shape=(None, 16, 16, 256), dtype=tf.float32, name=None), name='conv2d_95/BiasAdd:0', description=\"created by layer 'conv2d_95'\")\n",
      "KerasTensor(type_spec=TensorSpec(shape=(None, 16, 16, 256), dtype=tf.float32, name=None), name='conv2d_96/BiasAdd:0', description=\"created by layer 'conv2d_96'\")\n",
      "KerasTensor(type_spec=TensorSpec(shape=(None, 16, 16, 256), dtype=tf.float32, name=None), name='conv2d_97/BiasAdd:0', description=\"created by layer 'conv2d_97'\")\n",
      "KerasTensor(type_spec=TensorSpec(shape=(None, 16, 16, 256), dtype=tf.float32, name=None), name='conv2d_98/BiasAdd:0', description=\"created by layer 'conv2d_98'\")\n",
      "KerasTensor(type_spec=TensorSpec(shape=(None, 16, 16, 256), dtype=tf.float32, name=None), name='conv2d_99/BiasAdd:0', description=\"created by layer 'conv2d_99'\")\n",
      "KerasTensor(type_spec=TensorSpec(shape=(None, 16, 16, 256), dtype=tf.float32, name=None), name='conv2d_100/BiasAdd:0', description=\"created by layer 'conv2d_100'\")\n",
      "KerasTensor(type_spec=TensorSpec(shape=(None, 16, 16, 256), dtype=tf.float32, name=None), name='conv2d_101/BiasAdd:0', description=\"created by layer 'conv2d_101'\")\n",
      "KerasTensor(type_spec=TensorSpec(shape=(None, 16, 16, 256), dtype=tf.float32, name=None), name='conv2d_102/BiasAdd:0', description=\"created by layer 'conv2d_102'\")\n",
      "KerasTensor(type_spec=TensorSpec(shape=(None, 16, 16, 256), dtype=tf.float32, name=None), name='conv2d_103/BiasAdd:0', description=\"created by layer 'conv2d_103'\")\n",
      "KerasTensor(type_spec=TensorSpec(shape=(None, 16, 16, 256), dtype=tf.float32, name=None), name='conv2d_104/BiasAdd:0', description=\"created by layer 'conv2d_104'\")\n",
      "KerasTensor(type_spec=TensorSpec(shape=(None, 16, 16, 256), dtype=tf.float32, name=None), name='conv2d_105/BiasAdd:0', description=\"created by layer 'conv2d_105'\")\n",
      "KerasTensor(type_spec=TensorSpec(shape=(None, 16, 16, 256), dtype=tf.float32, name=None), name='conv2d_106/BiasAdd:0', description=\"created by layer 'conv2d_106'\")\n",
      "KerasTensor(type_spec=TensorSpec(shape=(None, 16, 16, 256), dtype=tf.float32, name=None), name='conv2d_107/BiasAdd:0', description=\"created by layer 'conv2d_107'\")\n"
     ]
    },
    {
     "name": "stdout",
     "output_type": "stream",
     "text": [
      "KerasTensor(type_spec=TensorSpec(shape=(None, 16, 16, 256), dtype=tf.float32, name=None), name='conv2d_108/BiasAdd:0', description=\"created by layer 'conv2d_108'\")\n",
      "KerasTensor(type_spec=TensorSpec(shape=(None, 16, 16, 256), dtype=tf.float32, name=None), name='conv2d_109/BiasAdd:0', description=\"created by layer 'conv2d_109'\")\n",
      "KerasTensor(type_spec=TensorSpec(shape=(None, 16, 16, 256), dtype=tf.float32, name=None), name='conv2d_110/BiasAdd:0', description=\"created by layer 'conv2d_110'\")\n",
      "KerasTensor(type_spec=TensorSpec(shape=(None, 16, 16, 256), dtype=tf.float32, name=None), name='conv2d_111/BiasAdd:0', description=\"created by layer 'conv2d_111'\")\n",
      "KerasTensor(type_spec=TensorSpec(shape=(None, 16, 16, 256), dtype=tf.float32, name=None), name='conv2d_112/BiasAdd:0', description=\"created by layer 'conv2d_112'\")\n",
      "KerasTensor(type_spec=TensorSpec(shape=(None, 16, 16, 256), dtype=tf.float32, name=None), name='conv2d_113/BiasAdd:0', description=\"created by layer 'conv2d_113'\")\n",
      "KerasTensor(type_spec=TensorSpec(shape=(None, 16, 16, 256), dtype=tf.float32, name=None), name='conv2d_114/BiasAdd:0', description=\"created by layer 'conv2d_114'\")\n",
      "KerasTensor(type_spec=TensorSpec(shape=(None, 16, 16, 256), dtype=tf.float32, name=None), name='conv2d_115/BiasAdd:0', description=\"created by layer 'conv2d_115'\")\n",
      "KerasTensor(type_spec=TensorSpec(shape=(None, 16, 16, 256), dtype=tf.float32, name=None), name='conv2d_116/BiasAdd:0', description=\"created by layer 'conv2d_116'\")\n",
      "KerasTensor(type_spec=TensorSpec(shape=(None, 16, 16, 256), dtype=tf.float32, name=None), name='conv2d_117/BiasAdd:0', description=\"created by layer 'conv2d_117'\")\n",
      "KerasTensor(type_spec=TensorSpec(shape=(None, 16, 16, 256), dtype=tf.float32, name=None), name='conv2d_118/BiasAdd:0', description=\"created by layer 'conv2d_118'\")\n",
      "KerasTensor(type_spec=TensorSpec(shape=(None, 16, 16, 256), dtype=tf.float32, name=None), name='conv2d_119/BiasAdd:0', description=\"created by layer 'conv2d_119'\")\n",
      "KerasTensor(type_spec=TensorSpec(shape=(None, 16, 16, 256), dtype=tf.float32, name=None), name='conv2d_120/BiasAdd:0', description=\"created by layer 'conv2d_120'\")\n",
      "KerasTensor(type_spec=TensorSpec(shape=(None, 16, 16, 256), dtype=tf.float32, name=None), name='conv2d_121/BiasAdd:0', description=\"created by layer 'conv2d_121'\")\n",
      "KerasTensor(type_spec=TensorSpec(shape=(None, 16, 16, 256), dtype=tf.float32, name=None), name='conv2d_122/BiasAdd:0', description=\"created by layer 'conv2d_122'\")\n",
      "KerasTensor(type_spec=TensorSpec(shape=(None, 16, 16, 256), dtype=tf.float32, name=None), name='conv2d_123/BiasAdd:0', description=\"created by layer 'conv2d_123'\")\n",
      "KerasTensor(type_spec=TensorSpec(shape=(None, 16, 16, 256), dtype=tf.float32, name=None), name='conv2d_124/BiasAdd:0', description=\"created by layer 'conv2d_124'\")\n",
      "KerasTensor(type_spec=TensorSpec(shape=(None, 16, 16, 256), dtype=tf.float32, name=None), name='conv2d_125/BiasAdd:0', description=\"created by layer 'conv2d_125'\")\n",
      "KerasTensor(type_spec=TensorSpec(shape=(None, 16, 16, 256), dtype=tf.float32, name=None), name='conv2d_126/BiasAdd:0', description=\"created by layer 'conv2d_126'\")\n",
      "KerasTensor(type_spec=TensorSpec(shape=(None, 16, 16, 256), dtype=tf.float32, name=None), name='conv2d_127/BiasAdd:0', description=\"created by layer 'conv2d_127'\")\n",
      "KerasTensor(type_spec=TensorSpec(shape=(None, 16, 16, 256), dtype=tf.float32, name=None), name='conv2d_128/BiasAdd:0', description=\"created by layer 'conv2d_128'\")\n",
      "KerasTensor(type_spec=TensorSpec(shape=(None, 16, 16, 256), dtype=tf.float32, name=None), name='conv2d_129/BiasAdd:0', description=\"created by layer 'conv2d_129'\")\n",
      "KerasTensor(type_spec=TensorSpec(shape=(None, 16, 16, 256), dtype=tf.float32, name=None), name='conv2d_130/BiasAdd:0', description=\"created by layer 'conv2d_130'\")\n",
      "KerasTensor(type_spec=TensorSpec(shape=(None, 16, 16, 256), dtype=tf.float32, name=None), name='conv2d_131/BiasAdd:0', description=\"created by layer 'conv2d_131'\")\n",
      "KerasTensor(type_spec=TensorSpec(shape=(None, 16, 16, 256), dtype=tf.float32, name=None), name='conv2d_132/BiasAdd:0', description=\"created by layer 'conv2d_132'\")\n",
      "KerasTensor(type_spec=TensorSpec(shape=(None, 16, 16, 256), dtype=tf.float32, name=None), name='conv2d_133/BiasAdd:0', description=\"created by layer 'conv2d_133'\")\n",
      "KerasTensor(type_spec=TensorSpec(shape=(None, 16, 16, 256), dtype=tf.float32, name=None), name='conv2d_134/BiasAdd:0', description=\"created by layer 'conv2d_134'\")\n",
      "KerasTensor(type_spec=TensorSpec(shape=(None, 8, 8, 512), dtype=tf.float32, name=None), name='conv2d_136/BiasAdd:0', description=\"created by layer 'conv2d_136'\")\n",
      "KerasTensor(type_spec=TensorSpec(shape=(None, 8, 8, 512), dtype=tf.float32, name=None), name='conv2d_137/BiasAdd:0', description=\"created by layer 'conv2d_137'\")\n",
      "KerasTensor(type_spec=TensorSpec(shape=(None, 8, 8, 512), dtype=tf.float32, name=None), name='conv2d_138/BiasAdd:0', description=\"created by layer 'conv2d_138'\")\n",
      "KerasTensor(type_spec=TensorSpec(shape=(None, 8, 8, 512), dtype=tf.float32, name=None), name='conv2d_139/BiasAdd:0', description=\"created by layer 'conv2d_139'\")\n",
      "KerasTensor(type_spec=TensorSpec(shape=(None, 8, 8, 512), dtype=tf.float32, name=None), name='conv2d_140/BiasAdd:0', description=\"created by layer 'conv2d_140'\")\n",
      "KerasTensor(type_spec=TensorSpec(shape=(None, 8, 8, 512), dtype=tf.float32, name=None), name='conv2d_141/BiasAdd:0', description=\"created by layer 'conv2d_141'\")\n",
      "KerasTensor(type_spec=TensorSpec(shape=(None, 8, 8, 512), dtype=tf.float32, name=None), name='conv2d_142/BiasAdd:0', description=\"created by layer 'conv2d_142'\")\n",
      "KerasTensor(type_spec=TensorSpec(shape=(None, 8, 8, 512), dtype=tf.float32, name=None), name='conv2d_143/BiasAdd:0', description=\"created by layer 'conv2d_143'\")\n",
      "KerasTensor(type_spec=TensorSpec(shape=(None, 8, 8, 512), dtype=tf.float32, name=None), name='conv2d_144/BiasAdd:0', description=\"created by layer 'conv2d_144'\")\n",
      "KerasTensor(type_spec=TensorSpec(shape=(None, 8, 8, 512), dtype=tf.float32, name=None), name='conv2d_145/BiasAdd:0', description=\"created by layer 'conv2d_145'\")\n",
      "KerasTensor(type_spec=TensorSpec(shape=(None, 8, 8, 512), dtype=tf.float32, name=None), name='conv2d_146/BiasAdd:0', description=\"created by layer 'conv2d_146'\")\n",
      "KerasTensor(type_spec=TensorSpec(shape=(None, 8, 8, 512), dtype=tf.float32, name=None), name='conv2d_147/BiasAdd:0', description=\"created by layer 'conv2d_147'\")\n",
      "KerasTensor(type_spec=TensorSpec(shape=(None, 8, 8, 512), dtype=tf.float32, name=None), name='conv2d_148/BiasAdd:0', description=\"created by layer 'conv2d_148'\")\n",
      "KerasTensor(type_spec=TensorSpec(shape=(None, 8, 8, 512), dtype=tf.float32, name=None), name='conv2d_149/BiasAdd:0', description=\"created by layer 'conv2d_149'\")\n",
      "KerasTensor(type_spec=TensorSpec(shape=(None, 8, 8, 512), dtype=tf.float32, name=None), name='conv2d_150/BiasAdd:0', description=\"created by layer 'conv2d_150'\")\n",
      "KerasTensor(type_spec=TensorSpec(shape=(None, 8, 8, 512), dtype=tf.float32, name=None), name='conv2d_151/BiasAdd:0', description=\"created by layer 'conv2d_151'\")\n",
      "KerasTensor(type_spec=TensorSpec(shape=(None, 8, 8, 512), dtype=tf.float32, name=None), name='conv2d_152/BiasAdd:0', description=\"created by layer 'conv2d_152'\")\n",
      "KerasTensor(type_spec=TensorSpec(shape=(None, 8, 8, 512), dtype=tf.float32, name=None), name='conv2d_153/BiasAdd:0', description=\"created by layer 'conv2d_153'\")\n",
      "KerasTensor(type_spec=TensorSpec(shape=(None, 8, 8, 512), dtype=tf.float32, name=None), name='conv2d_154/BiasAdd:0', description=\"created by layer 'conv2d_154'\")\n",
      "KerasTensor(type_spec=TensorSpec(shape=(None, 8, 8, 512), dtype=tf.float32, name=None), name='conv2d_155/BiasAdd:0', description=\"created by layer 'conv2d_155'\")\n",
      "KerasTensor(type_spec=TensorSpec(shape=(None, 8, 8, 512), dtype=tf.float32, name=None), name='conv2d_156/BiasAdd:0', description=\"created by layer 'conv2d_156'\")\n",
      "KerasTensor(type_spec=TensorSpec(shape=(None, 8, 8, 512), dtype=tf.float32, name=None), name='conv2d_157/BiasAdd:0', description=\"created by layer 'conv2d_157'\")\n",
      "KerasTensor(type_spec=TensorSpec(shape=(None, 8, 8, 512), dtype=tf.float32, name=None), name='conv2d_158/BiasAdd:0', description=\"created by layer 'conv2d_158'\")\n",
      "KerasTensor(type_spec=TensorSpec(shape=(None, 8, 8, 512), dtype=tf.float32, name=None), name='conv2d_159/BiasAdd:0', description=\"created by layer 'conv2d_159'\")\n",
      "KerasTensor(type_spec=TensorSpec(shape=(None, 8, 8, 512), dtype=tf.float32, name=None), name='conv2d_160/BiasAdd:0', description=\"created by layer 'conv2d_160'\")\n",
      "KerasTensor(type_spec=TensorSpec(shape=(None, 8, 8, 512), dtype=tf.float32, name=None), name='conv2d_161/BiasAdd:0', description=\"created by layer 'conv2d_161'\")\n",
      "KerasTensor(type_spec=TensorSpec(shape=(None, 8, 8, 512), dtype=tf.float32, name=None), name='conv2d_162/BiasAdd:0', description=\"created by layer 'conv2d_162'\")\n",
      "KerasTensor(type_spec=TensorSpec(shape=(None, 8, 8, 512), dtype=tf.float32, name=None), name='conv2d_163/BiasAdd:0', description=\"created by layer 'conv2d_163'\")\n",
      "KerasTensor(type_spec=TensorSpec(shape=(None, 8, 8, 512), dtype=tf.float32, name=None), name='conv2d_164/BiasAdd:0', description=\"created by layer 'conv2d_164'\")\n"
     ]
    },
    {
     "name": "stdout",
     "output_type": "stream",
     "text": [
      "KerasTensor(type_spec=TensorSpec(shape=(None, 8, 8, 512), dtype=tf.float32, name=None), name='conv2d_165/BiasAdd:0', description=\"created by layer 'conv2d_165'\")\n",
      "KerasTensor(type_spec=TensorSpec(shape=(None, 8, 8, 512), dtype=tf.float32, name=None), name='conv2d_166/BiasAdd:0', description=\"created by layer 'conv2d_166'\")\n",
      "KerasTensor(type_spec=TensorSpec(shape=(None, 8, 8, 512), dtype=tf.float32, name=None), name='conv2d_167/BiasAdd:0', description=\"created by layer 'conv2d_167'\")\n",
      "KerasTensor(type_spec=TensorSpec(shape=(None, 8, 8, 512), dtype=tf.float32, name=None), name='conv2d_168/BiasAdd:0', description=\"created by layer 'conv2d_168'\")\n",
      "KerasTensor(type_spec=TensorSpec(shape=(None, 8, 8, 512), dtype=tf.float32, name=None), name='conv2d_169/BiasAdd:0', description=\"created by layer 'conv2d_169'\")\n",
      "KerasTensor(type_spec=TensorSpec(shape=(None, 8, 8, 512), dtype=tf.float32, name=None), name='conv2d_170/BiasAdd:0', description=\"created by layer 'conv2d_170'\")\n",
      "KerasTensor(type_spec=TensorSpec(shape=(None, 8, 8, 512), dtype=tf.float32, name=None), name='conv2d_171/BiasAdd:0', description=\"created by layer 'conv2d_171'\")\n",
      "KerasTensor(type_spec=TensorSpec(shape=(None, 8, 8, 512), dtype=tf.float32, name=None), name='conv2d_172/BiasAdd:0', description=\"created by layer 'conv2d_172'\")\n",
      "KerasTensor(type_spec=TensorSpec(shape=(None, 8, 8, 512), dtype=tf.float32, name=None), name='conv2d_173/BiasAdd:0', description=\"created by layer 'conv2d_173'\")\n",
      "KerasTensor(type_spec=TensorSpec(shape=(None, 8, 8, 512), dtype=tf.float32, name=None), name='conv2d_174/BiasAdd:0', description=\"created by layer 'conv2d_174'\")\n",
      "KerasTensor(type_spec=TensorSpec(shape=(None, 8, 8, 512), dtype=tf.float32, name=None), name='conv2d_175/BiasAdd:0', description=\"created by layer 'conv2d_175'\")\n",
      "KerasTensor(type_spec=TensorSpec(shape=(None, 8, 8, 512), dtype=tf.float32, name=None), name='conv2d_176/BiasAdd:0', description=\"created by layer 'conv2d_176'\")\n",
      "KerasTensor(type_spec=TensorSpec(shape=(None, 8, 8, 512), dtype=tf.float32, name=None), name='conv2d_177/BiasAdd:0', description=\"created by layer 'conv2d_177'\")\n",
      "KerasTensor(type_spec=TensorSpec(shape=(None, 8, 8, 512), dtype=tf.float32, name=None), name='conv2d_178/BiasAdd:0', description=\"created by layer 'conv2d_178'\")\n",
      "KerasTensor(type_spec=TensorSpec(shape=(None, 8, 8, 512), dtype=tf.float32, name=None), name='conv2d_179/BiasAdd:0', description=\"created by layer 'conv2d_179'\")\n",
      "KerasTensor(type_spec=TensorSpec(shape=(None, 8, 8, 512), dtype=tf.float32, name=None), name='conv2d_180/BiasAdd:0', description=\"created by layer 'conv2d_180'\")\n",
      "KerasTensor(type_spec=TensorSpec(shape=(None, 8, 8, 512), dtype=tf.float32, name=None), name='conv2d_181/BiasAdd:0', description=\"created by layer 'conv2d_181'\")\n",
      "KerasTensor(type_spec=TensorSpec(shape=(None, 8, 8, 512), dtype=tf.float32, name=None), name='conv2d_182/BiasAdd:0', description=\"created by layer 'conv2d_182'\")\n",
      "KerasTensor(type_spec=TensorSpec(shape=(None, 8, 8, 512), dtype=tf.float32, name=None), name='conv2d_183/BiasAdd:0', description=\"created by layer 'conv2d_183'\")\n",
      "KerasTensor(type_spec=TensorSpec(shape=(None, 8, 8, 512), dtype=tf.float32, name=None), name='conv2d_184/BiasAdd:0', description=\"created by layer 'conv2d_184'\")\n",
      "KerasTensor(type_spec=TensorSpec(shape=(None, 8, 8, 512), dtype=tf.float32, name=None), name='conv2d_185/BiasAdd:0', description=\"created by layer 'conv2d_185'\")\n",
      "KerasTensor(type_spec=TensorSpec(shape=(None, 8, 8, 512), dtype=tf.float32, name=None), name='conv2d_186/BiasAdd:0', description=\"created by layer 'conv2d_186'\")\n",
      "KerasTensor(type_spec=TensorSpec(shape=(None, 8, 8, 512), dtype=tf.float32, name=None), name='conv2d_187/BiasAdd:0', description=\"created by layer 'conv2d_187'\")\n",
      "KerasTensor(type_spec=TensorSpec(shape=(None, 8, 8, 512), dtype=tf.float32, name=None), name='conv2d_188/BiasAdd:0', description=\"created by layer 'conv2d_188'\")\n",
      "KerasTensor(type_spec=TensorSpec(shape=(None, 8, 8, 512), dtype=tf.float32, name=None), name='conv2d_189/BiasAdd:0', description=\"created by layer 'conv2d_189'\")\n",
      "KerasTensor(type_spec=TensorSpec(shape=(None, 8, 8, 512), dtype=tf.float32, name=None), name='conv2d_190/BiasAdd:0', description=\"created by layer 'conv2d_190'\")\n",
      "KerasTensor(type_spec=TensorSpec(shape=(None, 8, 8, 512), dtype=tf.float32, name=None), name='conv2d_191/BiasAdd:0', description=\"created by layer 'conv2d_191'\")\n",
      "KerasTensor(type_spec=TensorSpec(shape=(None, 8, 8, 512), dtype=tf.float32, name=None), name='conv2d_192/BiasAdd:0', description=\"created by layer 'conv2d_192'\")\n",
      "KerasTensor(type_spec=TensorSpec(shape=(None, 8, 8, 512), dtype=tf.float32, name=None), name='conv2d_193/BiasAdd:0', description=\"created by layer 'conv2d_193'\")\n",
      "KerasTensor(type_spec=TensorSpec(shape=(None, 8, 8, 512), dtype=tf.float32, name=None), name='conv2d_194/BiasAdd:0', description=\"created by layer 'conv2d_194'\")\n",
      "KerasTensor(type_spec=TensorSpec(shape=(None, 8, 8, 512), dtype=tf.float32, name=None), name='conv2d_195/BiasAdd:0', description=\"created by layer 'conv2d_195'\")\n",
      "KerasTensor(type_spec=TensorSpec(shape=(None, 8, 8, 512), dtype=tf.float32, name=None), name='conv2d_196/BiasAdd:0', description=\"created by layer 'conv2d_196'\")\n",
      "KerasTensor(type_spec=TensorSpec(shape=(None, 8, 8, 512), dtype=tf.float32, name=None), name='conv2d_197/BiasAdd:0', description=\"created by layer 'conv2d_197'\")\n",
      "KerasTensor(type_spec=TensorSpec(shape=(None, 8, 8, 512), dtype=tf.float32, name=None), name='conv2d_198/BiasAdd:0', description=\"created by layer 'conv2d_198'\")\n",
      "KerasTensor(type_spec=TensorSpec(shape=(None, 8, 8, 512), dtype=tf.float32, name=None), name='conv2d_199/BiasAdd:0', description=\"created by layer 'conv2d_199'\")\n"
     ]
    }
   ],
   "source": [
    "model = U_Net()"
   ]
  },
  {
   "cell_type": "code",
   "execution_count": 27,
   "id": "70917c24",
   "metadata": {},
   "outputs": [],
   "source": [
    "model.compile(optimizer=tf.keras.optimizers.Adam(learning_rate= 1e-4),loss=\"binary_crossentropy\",metrics=[\"accuracy\"])"
   ]
  },
  {
   "cell_type": "code",
   "execution_count": 28,
   "id": "817750cc",
   "metadata": {},
   "outputs": [
    {
     "name": "stdout",
     "output_type": "stream",
     "text": [
      "Model: \"model\"\n",
      "__________________________________________________________________________________________________\n",
      " Layer (type)                   Output Shape         Param #     Connected to                     \n",
      "==================================================================================================\n",
      " input_1 (InputLayer)           [(None, 256, 256, 3  0           []                               \n",
      "                                )]                                                                \n",
      "                                                                                                  \n",
      " conv2d (Conv2D)                (None, 128, 128, 32  4736        ['input_1[0][0]']                \n",
      "                                )                                                                 \n",
      "                                                                                                  \n",
      " max_pooling2d (MaxPooling2D)   (None, 64, 64, 32)   0           ['conv2d[0][0]']                 \n",
      "                                                                                                  \n",
      " conv2d_11 (Conv2D)             (None, 64, 64, 64)   2112        ['max_pooling2d[0][0]']          \n",
      "                                                                                                  \n",
      " conv2d_12 (Conv2D)             (None, 64, 64, 64)   36928       ['conv2d_11[0][0]']              \n",
      "                                                                                                  \n",
      " conv2d_13 (Conv2D)             (None, 64, 64, 128)  8320        ['conv2d_12[0][0]']              \n",
      "                                                                                                  \n",
      " average_pooling2d (AveragePool  (None, 32, 32, 128)  0          ['conv2d_13[0][0]']              \n",
      " ing2D)                                                                                           \n",
      "                                                                                                  \n",
      " conv2d_36 (Conv2D)             (None, 32, 32, 128)  16512       ['average_pooling2d[0][0]']      \n",
      "                                                                                                  \n",
      " conv2d_37 (Conv2D)             (None, 32, 32, 128)  147584      ['conv2d_36[0][0]']              \n",
      "                                                                                                  \n",
      " conv2d_38 (Conv2D)             (None, 32, 32, 128)  16512       ['conv2d_37[0][0]']              \n",
      "                                                                                                  \n",
      " average_pooling2d_1 (AveragePo  (None, 16, 16, 128)  0          ['conv2d_38[0][0]']              \n",
      " oling2D)                                                                                         \n",
      "                                                                                                  \n",
      " conv2d_133 (Conv2D)            (None, 16, 16, 256)  33024       ['average_pooling2d_1[0][0]']    \n",
      "                                                                                                  \n",
      " conv2d_134 (Conv2D)            (None, 16, 16, 256)  590080      ['conv2d_133[0][0]']             \n",
      "                                                                                                  \n",
      " conv2d_135 (Conv2D)            (None, 16, 16, 128)  32896       ['conv2d_134[0][0]']             \n",
      "                                                                                                  \n",
      " average_pooling2d_2 (AveragePo  (None, 8, 8, 128)   0           ['conv2d_135[0][0]']             \n",
      " oling2D)                                                                                         \n",
      "                                                                                                  \n",
      " conv2d_198 (Conv2D)            (None, 8, 8, 512)    66048       ['average_pooling2d_2[0][0]']    \n",
      "                                                                                                  \n",
      " conv2d_199 (Conv2D)            (None, 8, 8, 512)    2359808     ['conv2d_198[0][0]']             \n",
      "                                                                                                  \n",
      " up_sampling2d (UpSampling2D)   (None, 16, 16, 512)  0           ['conv2d_199[0][0]']             \n",
      "                                                                                                  \n",
      " conv2d_200 (Conv2D)            (None, 16, 16, 512)  2359808     ['up_sampling2d[0][0]']          \n",
      "                                                                                                  \n",
      " batch_normalization (BatchNorm  (None, 16, 16, 512)  2048       ['conv2d_200[0][0]']             \n",
      " alization)                                                                                       \n",
      "                                                                                                  \n",
      " re_lu (ReLU)                   (None, 16, 16, 512)  0           ['batch_normalization[0][0]']    \n",
      "                                                                                                  \n",
      " concatenate (Concatenate)      (None, 16, 16, 768)  0           ['re_lu[0][0]',                  \n",
      "                                                                  'conv2d_134[0][0]']             \n",
      "                                                                                                  \n",
      " conv2d_201 (Conv2D)            (None, 16, 16, 512)  3539456     ['concatenate[0][0]']            \n",
      "                                                                                                  \n",
      " batch_normalization_1 (BatchNo  (None, 16, 16, 512)  2048       ['conv2d_201[0][0]']             \n",
      " rmalization)                                                                                     \n",
      "                                                                                                  \n",
      " re_lu_1 (ReLU)                 (None, 16, 16, 512)  0           ['batch_normalization_1[0][0]']  \n",
      "                                                                                                  \n",
      " up_sampling2d_1 (UpSampling2D)  (None, 32, 32, 512)  0          ['re_lu_1[0][0]']                \n",
      "                                                                                                  \n",
      " conv2d_202 (Conv2D)            (None, 32, 32, 256)  1179904     ['up_sampling2d_1[0][0]']        \n",
      "                                                                                                  \n",
      " batch_normalization_2 (BatchNo  (None, 32, 32, 256)  1024       ['conv2d_202[0][0]']             \n",
      " rmalization)                                                                                     \n",
      "                                                                                                  \n",
      " re_lu_2 (ReLU)                 (None, 32, 32, 256)  0           ['batch_normalization_2[0][0]']  \n",
      "                                                                                                  \n",
      " concatenate_1 (Concatenate)    (None, 32, 32, 384)  0           ['re_lu_2[0][0]',                \n",
      "                                                                  'conv2d_37[0][0]']              \n",
      "                                                                                                  \n",
      " conv2d_203 (Conv2D)            (None, 32, 32, 256)  884992      ['concatenate_1[0][0]']          \n",
      "                                                                                                  \n",
      " batch_normalization_3 (BatchNo  (None, 32, 32, 256)  1024       ['conv2d_203[0][0]']             \n",
      " rmalization)                                                                                     \n",
      "                                                                                                  \n",
      " re_lu_3 (ReLU)                 (None, 32, 32, 256)  0           ['batch_normalization_3[0][0]']  \n",
      "                                                                                                  \n",
      " up_sampling2d_2 (UpSampling2D)  (None, 64, 64, 256)  0          ['re_lu_3[0][0]']                \n",
      "                                                                                                  \n",
      " conv2d_204 (Conv2D)            (None, 64, 64, 96)   221280      ['up_sampling2d_2[0][0]']        \n"
     ]
    },
    {
     "name": "stdout",
     "output_type": "stream",
     "text": [
      "                                                                                                  \n",
      " batch_normalization_4 (BatchNo  (None, 64, 64, 96)  384         ['conv2d_204[0][0]']             \n",
      " rmalization)                                                                                     \n",
      "                                                                                                  \n",
      " re_lu_4 (ReLU)                 (None, 64, 64, 96)   0           ['batch_normalization_4[0][0]']  \n",
      "                                                                                                  \n",
      " concatenate_2 (Concatenate)    (None, 64, 64, 160)  0           ['re_lu_4[0][0]',                \n",
      "                                                                  'conv2d_12[0][0]']              \n",
      "                                                                                                  \n",
      " conv2d_205 (Conv2D)            (None, 64, 64, 96)   138336      ['concatenate_2[0][0]']          \n",
      "                                                                                                  \n",
      " batch_normalization_5 (BatchNo  (None, 64, 64, 96)  384         ['conv2d_205[0][0]']             \n",
      " rmalization)                                                                                     \n",
      "                                                                                                  \n",
      " re_lu_5 (ReLU)                 (None, 64, 64, 96)   0           ['batch_normalization_5[0][0]']  \n",
      "                                                                                                  \n",
      " up_sampling2d_3 (UpSampling2D)  (None, 128, 128, 96  0          ['re_lu_5[0][0]']                \n",
      "                                )                                                                 \n",
      "                                                                                                  \n",
      " conv2d_206 (Conv2D)            (None, 128, 128, 96  83040       ['up_sampling2d_3[0][0]']        \n",
      "                                )                                                                 \n",
      "                                                                                                  \n",
      " batch_normalization_6 (BatchNo  (None, 128, 128, 96  384        ['conv2d_206[0][0]']             \n",
      " rmalization)                   )                                                                 \n",
      "                                                                                                  \n",
      " re_lu_6 (ReLU)                 (None, 128, 128, 96  0           ['batch_normalization_6[0][0]']  \n",
      "                                )                                                                 \n",
      "                                                                                                  \n",
      " concatenate_3 (Concatenate)    (None, 128, 128, 12  0           ['re_lu_6[0][0]',                \n",
      "                                8)                                'conv2d[0][0]']                 \n",
      "                                                                                                  \n",
      " conv2d_207 (Conv2D)            (None, 128, 128, 96  110688      ['concatenate_3[0][0]']          \n",
      "                                )                                                                 \n",
      "                                                                                                  \n",
      " batch_normalization_7 (BatchNo  (None, 128, 128, 96  384        ['conv2d_207[0][0]']             \n",
      " rmalization)                   )                                                                 \n",
      "                                                                                                  \n",
      " re_lu_7 (ReLU)                 (None, 128, 128, 96  0           ['batch_normalization_7[0][0]']  \n",
      "                                )                                                                 \n",
      "                                                                                                  \n",
      " up_sampling2d_4 (UpSampling2D)  (None, 256, 256, 96  0          ['re_lu_7[0][0]']                \n",
      "                                )                                                                 \n",
      "                                                                                                  \n",
      " conv2d_208 (Conv2D)            (None, 256, 256, 64  55360       ['up_sampling2d_4[0][0]']        \n",
      "                                )                                                                 \n",
      "                                                                                                  \n",
      " batch_normalization_8 (BatchNo  (None, 256, 256, 64  256        ['conv2d_208[0][0]']             \n",
      " rmalization)                   )                                                                 \n",
      "                                                                                                  \n",
      " re_lu_8 (ReLU)                 (None, 256, 256, 64  0           ['batch_normalization_8[0][0]']  \n",
      "                                )                                                                 \n",
      "                                                                                                  \n",
      " concatenate_4 (Concatenate)    (None, 256, 256, 67  0           ['re_lu_8[0][0]',                \n",
      "                                )                                 'input_1[0][0]']                \n",
      "                                                                                                  \n",
      " conv2d_209 (Conv2D)            (None, 256, 256, 64  38656       ['concatenate_4[0][0]']          \n",
      "                                )                                                                 \n",
      "                                                                                                  \n",
      " batch_normalization_9 (BatchNo  (None, 256, 256, 64  256        ['conv2d_209[0][0]']             \n",
      " rmalization)                   )                                                                 \n",
      "                                                                                                  \n",
      " re_lu_9 (ReLU)                 (None, 256, 256, 64  0           ['batch_normalization_9[0][0]']  \n",
      "                                )                                                                 \n",
      "                                                                                                  \n",
      " conv2d_210 (Conv2D)            (None, 256, 256, 3)  195         ['re_lu_9[0][0]']                \n",
      "                                                                                                  \n",
      "==================================================================================================\n",
      "Total params: 11,934,467\n",
      "Trainable params: 11,930,371\n",
      "Non-trainable params: 4,096\n",
      "__________________________________________________________________________________________________\n"
     ]
    }
   ],
   "source": [
    "model.summary()"
   ]
  },
  {
   "cell_type": "markdown",
   "id": "bf31c14d",
   "metadata": {},
   "source": [
    "**Training the Model**"
   ]
  },
  {
   "cell_type": "code",
   "execution_count": 27,
   "id": "9ed25b89",
   "metadata": {},
   "outputs": [],
   "source": [
    "train_gen = ImageDataGenerator(\n",
    "    rotation_range=10,\n",
    "    width_shift_range=0.1,\n",
    "    height_shift_range=0.1,\n",
    "    rescale=1.,\n",
    "    zoom_range=0.2,\n",
    "    fill_mode='nearest',\n",
    "    cval=0\n",
    ")\n",
    "\n",
    "\n",
    "test_gen = ImageDataGenerator(rescale=1.)"
   ]
  },
  {
   "cell_type": "code",
   "execution_count": 28,
   "id": "a2cfd1d6",
   "metadata": {},
   "outputs": [],
   "source": [
    "train_gen.fit(X_train)"
   ]
  },
  {
   "cell_type": "code",
   "execution_count": null,
   "id": "e1a004a4",
   "metadata": {
    "scrolled": false
   },
   "outputs": [
    {
     "name": "stdout",
     "output_type": "stream",
     "text": [
      "Epoch 1/100\n"
     ]
    }
   ],
   "source": [
    "batch_size=5\n",
    "r = model.fit(\n",
    "    train_gen.flow(X_train, y_train,batch_size=5),\n",
    "    validation_data=test_gen.flow(X_test, y_test,batch_size=5),\n",
    "    steps_per_epoch=len(X_train) // batch_size,\n",
    "    epochs = 100,\n",
    "    validation_steps=(len(X_test)) // batch_size,\n",
    ")"
   ]
  },
  {
   "cell_type": "code",
   "execution_count": null,
   "id": "c47f1f6a",
   "metadata": {},
   "outputs": [],
   "source": []
  },
  {
   "cell_type": "code",
   "execution_count": null,
   "id": "5bbfad41",
   "metadata": {},
   "outputs": [],
   "source": []
  },
  {
   "cell_type": "code",
   "execution_count": null,
   "id": "66a6c6a8",
   "metadata": {},
   "outputs": [],
   "source": []
  },
  {
   "cell_type": "code",
   "execution_count": null,
   "id": "7d675867",
   "metadata": {},
   "outputs": [],
   "source": []
  },
  {
   "cell_type": "code",
   "execution_count": null,
   "id": "924c0d0b",
   "metadata": {},
   "outputs": [],
   "source": []
  },
  {
   "cell_type": "code",
   "execution_count": 35,
   "id": "4bee9c5a",
   "metadata": {},
   "outputs": [],
   "source": [
    "def segnet(epochs_num,savename):\n",
    "\n",
    "    # Encoding layer\n",
    "    img_input = Input(shape= (256, 256, 3))\n",
    "    x = Conv2D(64, (3, 3), padding='same', name='conv1',strides= (1,1))(img_input)\n",
    "    x = BatchNormalization(name='bn1')(x)\n",
    "    x = Activation('relu')(x)\n",
    "    x = Conv2D(64, (3, 3), padding='same', name='conv2')(x)\n",
    "    x = BatchNormalization(name='bn2')(x)\n",
    "    x = Activation('relu')(x)\n",
    "    x = MaxPooling2D()(x)\n",
    "    \n",
    "    x = Conv2D(128, (3, 3), padding='same', name='conv3')(x)\n",
    "    x = BatchNormalization(name='bn3')(x)\n",
    "    x = Activation('relu')(x)\n",
    "    x = Conv2D(128, (3, 3), padding='same', name='conv4')(x)\n",
    "    x = BatchNormalization(name='bn4')(x)\n",
    "    x = Activation('relu')(x)\n",
    "    x = MaxPooling2D()(x)\n",
    "\n",
    "    x = Conv2D(256, (3, 3), padding='same', name='conv5')(x)\n",
    "    x = BatchNormalization(name='bn5')(x)\n",
    "    x = Activation('relu')(x)\n",
    "    x = Conv2D(256, (3, 3), padding='same', name='conv6')(x)\n",
    "    x = BatchNormalization(name='bn6')(x)\n",
    "    x = Activation('relu')(x)\n",
    "    x = Conv2D(256, (3, 3), padding='same', name='conv7')(x)\n",
    "    x = BatchNormalization(name='bn7')(x)\n",
    "    x = Activation('relu')(x)\n",
    "    x = MaxPooling2D()(x)\n",
    "\n",
    "    x = Conv2D(512, (3, 3), padding='same', name='conv8')(x)\n",
    "    x = BatchNormalization(name='bn8')(x)\n",
    "    x = Activation('relu')(x)\n",
    "    x = Conv2D(512, (3, 3), padding='same', name='conv9')(x)\n",
    "    x = BatchNormalization(name='bn9')(x)\n",
    "    x = Activation('relu')(x)\n",
    "    x = Conv2D(512, (3, 3), padding='same', name='conv10')(x)\n",
    "    x = BatchNormalization(name='bn10')(x)\n",
    "    x = Activation('relu')(x)\n",
    "    x = MaxPooling2D()(x)\n",
    "    \n",
    "    x = Conv2D(512, (3, 3), padding='same', name='conv11')(x)\n",
    "    x = BatchNormalization(name='bn11')(x)\n",
    "    x = Activation('relu')(x)\n",
    "    x = Conv2D(512, (3, 3), padding='same', name='conv12')(x)\n",
    "    x = BatchNormalization(name='bn12')(x)\n",
    "    x = Activation('relu')(x)\n",
    "    x = Conv2D(512, (3, 3), padding='same', name='conv13')(x)\n",
    "    x = BatchNormalization(name='bn13')(x)\n",
    "    x = Activation('relu')(x)\n",
    "    x = MaxPooling2D()(x)\n",
    "\n",
    "    x = Dense(1024, activation = 'relu', name='fc1')(x)\n",
    "    x = Dense(1024, activation = 'relu', name='fc2')(x)\n",
    "    \n",
    "    # Decoding Layer \n",
    "    x = UpSampling2D()(x)\n",
    "    x = Conv2DTranspose(512, (3, 3), padding='same', name='deconv1')(x)\n",
    "    x = BatchNormalization(name='bn14')(x)\n",
    "    x = Activation('relu')(x)\n",
    "    x = Conv2DTranspose(512, (3, 3), padding='same', name='deconv2')(x)\n",
    "    x = BatchNormalization(name='bn15')(x)\n",
    "    x = Activation('relu')(x)\n",
    "    x = Conv2DTranspose(512, (3, 3), padding='same', name='deconv3')(x)\n",
    "    x = BatchNormalization(name='bn16')(x)\n",
    "    x = Activation('relu')(x)\n",
    "    \n",
    "    x = UpSampling2D()(x)\n",
    "    x = Conv2DTranspose(512, (3, 3), padding='same', name='deconv4')(x)\n",
    "    x = BatchNormalization(name='bn17')(x)\n",
    "    x = Activation('relu')(x)\n",
    "    x = Conv2DTranspose(512, (3, 3), padding='same', name='deconv5')(x)\n",
    "    x = BatchNormalization(name='bn18')(x)\n",
    "    x = Activation('relu')(x)\n",
    "    x = Conv2DTranspose(256, (3, 3), padding='same', name='deconv6')(x)\n",
    "    x = BatchNormalization(name='bn19')(x)\n",
    "    x = Activation('relu')(x)\n",
    "\n",
    "    x = UpSampling2D()(x)\n",
    "    x = Conv2DTranspose(256, (3, 3), padding='same', name='deconv7')(x)\n",
    "    x = BatchNormalization(name='bn20')(x)\n",
    "    x = Activation('relu')(x)\n",
    "    x = Conv2DTranspose(256, (3, 3), padding='same', name='deconv8')(x)\n",
    "    x = BatchNormalization(name='bn21')(x)\n",
    "    x = Activation('relu')(x)\n",
    "    x = Conv2DTranspose(128, (3, 3), padding='same', name='deconv9')(x)\n",
    "    x = BatchNormalization(name='bn22')(x)\n",
    "    x = Activation('relu')(x)\n",
    "\n",
    "    x = UpSampling2D()(x)\n",
    "    x = Conv2DTranspose(128, (3, 3), padding='same', name='deconv10')(x)\n",
    "    x = BatchNormalization(name='bn23')(x)\n",
    "    x = Activation('relu')(x)\n",
    "    x = Conv2DTranspose(64, (3, 3), padding='same', name='deconv11')(x)\n",
    "    x = BatchNormalization(name='bn24')(x)\n",
    "    x = Activation('relu')(x)\n",
    "    \n",
    "    x = UpSampling2D()(x)\n",
    "    x = Conv2DTranspose(64, (3, 3), padding='same', name='deconv12')(x)\n",
    "    x = BatchNormalization(name='bn25')(x)\n",
    "    x = Activation('relu')(x)\n",
    "    x = Conv2DTranspose(1, (3, 3), padding='same', name='deconv13')(x)\n",
    "    x = BatchNormalization(name='bn26')(x)\n",
    "    x = Activation('sigmoid')(x)\n",
    "    ###pred = Reshape((256,256))(x)\n",
    "    \n",
    "    model = Model(inputs=img_input, outputs=x)\n",
    "    \n",
    "    model.compile(optimizer= SGD(lr=0.001, momentum=0.9, decay=0.0005, nesterov=False), loss= [\"binary_crossentropy\"]\n",
    "                  , metrics=['accuracy'])\n",
    "    \n",
    "    model.summary()\n",
    "    batch_size=5\n",
    "    hist = model.fit(\n",
    "        train_gen.flow(X_train, y_train,batch_size=5),\n",
    "        validation_data=test_gen.flow(X_test, y_test,batch_size=5),\n",
    "        epochs= epochs_num,\n",
    "        verbose=1,\n",
    "        steps_per_epoch=len(X_train) // batch_size,\n",
    "        validation_steps=(len(X_test)) // batch_size,\n",
    "    )\n",
    "    \n",
    "    model.save(savename)\n",
    "    return model,hist"
   ]
  },
  {
   "cell_type": "code",
   "execution_count": 36,
   "id": "ceffba70",
   "metadata": {
    "scrolled": true
   },
   "outputs": [
    {
     "name": "stdout",
     "output_type": "stream",
     "text": [
      "Model: \"model_4\"\n",
      "_________________________________________________________________\n",
      " Layer (type)                Output Shape              Param #   \n",
      "=================================================================\n",
      " input_5 (InputLayer)        [(None, 256, 256, 3)]     0         \n",
      "                                                                 \n",
      " conv1 (Conv2D)              (None, 256, 256, 64)      1792      \n",
      "                                                                 \n",
      " bn1 (BatchNormalization)    (None, 256, 256, 64)      256       \n",
      "                                                                 \n",
      " activation_78 (Activation)  (None, 256, 256, 64)      0         \n",
      "                                                                 \n",
      " conv2 (Conv2D)              (None, 256, 256, 64)      36928     \n",
      "                                                                 \n",
      " bn2 (BatchNormalization)    (None, 256, 256, 64)      256       \n",
      "                                                                 \n",
      " activation_79 (Activation)  (None, 256, 256, 64)      0         \n",
      "                                                                 \n",
      " max_pooling2d_16 (MaxPoolin  (None, 128, 128, 64)     0         \n",
      " g2D)                                                            \n",
      "                                                                 \n",
      " conv3 (Conv2D)              (None, 128, 128, 128)     73856     \n",
      "                                                                 \n",
      " bn3 (BatchNormalization)    (None, 128, 128, 128)     512       \n",
      "                                                                 \n",
      " activation_80 (Activation)  (None, 128, 128, 128)     0         \n",
      "                                                                 \n",
      " conv4 (Conv2D)              (None, 128, 128, 128)     147584    \n",
      "                                                                 \n",
      " bn4 (BatchNormalization)    (None, 128, 128, 128)     512       \n",
      "                                                                 \n",
      " activation_81 (Activation)  (None, 128, 128, 128)     0         \n",
      "                                                                 \n",
      " max_pooling2d_17 (MaxPoolin  (None, 64, 64, 128)      0         \n",
      " g2D)                                                            \n",
      "                                                                 \n",
      " conv5 (Conv2D)              (None, 64, 64, 256)       295168    \n",
      "                                                                 \n",
      " bn5 (BatchNormalization)    (None, 64, 64, 256)       1024      \n",
      "                                                                 \n",
      " activation_82 (Activation)  (None, 64, 64, 256)       0         \n",
      "                                                                 \n",
      " conv6 (Conv2D)              (None, 64, 64, 256)       590080    \n",
      "                                                                 \n",
      " bn6 (BatchNormalization)    (None, 64, 64, 256)       1024      \n",
      "                                                                 \n",
      " activation_83 (Activation)  (None, 64, 64, 256)       0         \n",
      "                                                                 \n",
      " conv7 (Conv2D)              (None, 64, 64, 256)       590080    \n",
      "                                                                 \n",
      " bn7 (BatchNormalization)    (None, 64, 64, 256)       1024      \n",
      "                                                                 \n",
      " activation_84 (Activation)  (None, 64, 64, 256)       0         \n",
      "                                                                 \n",
      " max_pooling2d_18 (MaxPoolin  (None, 32, 32, 256)      0         \n",
      " g2D)                                                            \n",
      "                                                                 \n",
      " conv8 (Conv2D)              (None, 32, 32, 512)       1180160   \n",
      "                                                                 \n",
      " bn8 (BatchNormalization)    (None, 32, 32, 512)       2048      \n",
      "                                                                 \n",
      " activation_85 (Activation)  (None, 32, 32, 512)       0         \n",
      "                                                                 \n",
      " conv9 (Conv2D)              (None, 32, 32, 512)       2359808   \n",
      "                                                                 \n",
      " bn9 (BatchNormalization)    (None, 32, 32, 512)       2048      \n",
      "                                                                 \n",
      " activation_86 (Activation)  (None, 32, 32, 512)       0         \n",
      "                                                                 \n",
      " conv10 (Conv2D)             (None, 32, 32, 512)       2359808   \n",
      "                                                                 \n",
      " bn10 (BatchNormalization)   (None, 32, 32, 512)       2048      \n",
      "                                                                 \n",
      " activation_87 (Activation)  (None, 32, 32, 512)       0         \n",
      "                                                                 \n",
      " max_pooling2d_19 (MaxPoolin  (None, 16, 16, 512)      0         \n",
      " g2D)                                                            \n",
      "                                                                 \n",
      " conv11 (Conv2D)             (None, 16, 16, 512)       2359808   \n",
      "                                                                 \n",
      " bn11 (BatchNormalization)   (None, 16, 16, 512)       2048      \n",
      "                                                                 \n",
      " activation_88 (Activation)  (None, 16, 16, 512)       0         \n",
      "                                                                 \n",
      " conv12 (Conv2D)             (None, 16, 16, 512)       2359808   \n",
      "                                                                 \n",
      " bn12 (BatchNormalization)   (None, 16, 16, 512)       2048      \n",
      "                                                                 \n",
      " activation_89 (Activation)  (None, 16, 16, 512)       0         \n",
      "                                                                 \n",
      " conv13 (Conv2D)             (None, 16, 16, 512)       2359808   \n",
      "                                                                 \n",
      " bn13 (BatchNormalization)   (None, 16, 16, 512)       2048      \n",
      "                                                                 \n",
      " activation_90 (Activation)  (None, 16, 16, 512)       0         \n",
      "                                                                 \n",
      " max_pooling2d_20 (MaxPoolin  (None, 8, 8, 512)        0         \n",
      " g2D)                                                            \n",
      "                                                                 \n",
      " fc1 (Dense)                 (None, 8, 8, 1024)        525312    \n",
      "                                                                 \n",
      " fc2 (Dense)                 (None, 8, 8, 1024)        1049600   \n",
      "                                                                 \n",
      " up_sampling2d_20 (UpSamplin  (None, 16, 16, 1024)     0         \n",
      " g2D)                                                            \n",
      "                                                                 \n",
      " deconv1 (Conv2DTranspose)   (None, 16, 16, 512)       4719104   \n",
      "                                                                 \n",
      " bn14 (BatchNormalization)   (None, 16, 16, 512)       2048      \n",
      "                                                                 \n",
      " activation_91 (Activation)  (None, 16, 16, 512)       0         \n",
      "                                                                 \n",
      " deconv2 (Conv2DTranspose)   (None, 16, 16, 512)       2359808   \n",
      "                                                                 \n",
      " bn15 (BatchNormalization)   (None, 16, 16, 512)       2048      \n",
      "                                                                 \n",
      " activation_92 (Activation)  (None, 16, 16, 512)       0         \n",
      "                                                                 \n",
      " deconv3 (Conv2DTranspose)   (None, 16, 16, 512)       2359808   \n",
      "                                                                 \n",
      " bn16 (BatchNormalization)   (None, 16, 16, 512)       2048      \n",
      "                                                                 \n",
      " activation_93 (Activation)  (None, 16, 16, 512)       0         \n",
      "                                                                 \n",
      " up_sampling2d_21 (UpSamplin  (None, 32, 32, 512)      0         \n"
     ]
    },
    {
     "name": "stdout",
     "output_type": "stream",
     "text": [
      " g2D)                                                            \n",
      "                                                                 \n",
      " deconv4 (Conv2DTranspose)   (None, 32, 32, 512)       2359808   \n",
      "                                                                 \n",
      " bn17 (BatchNormalization)   (None, 32, 32, 512)       2048      \n",
      "                                                                 \n",
      " activation_94 (Activation)  (None, 32, 32, 512)       0         \n",
      "                                                                 \n",
      " deconv5 (Conv2DTranspose)   (None, 32, 32, 512)       2359808   \n",
      "                                                                 \n",
      " bn18 (BatchNormalization)   (None, 32, 32, 512)       2048      \n",
      "                                                                 \n",
      " activation_95 (Activation)  (None, 32, 32, 512)       0         \n",
      "                                                                 \n",
      " deconv6 (Conv2DTranspose)   (None, 32, 32, 256)       1179904   \n",
      "                                                                 \n",
      " bn19 (BatchNormalization)   (None, 32, 32, 256)       1024      \n",
      "                                                                 \n",
      " activation_96 (Activation)  (None, 32, 32, 256)       0         \n",
      "                                                                 \n",
      " up_sampling2d_22 (UpSamplin  (None, 64, 64, 256)      0         \n",
      " g2D)                                                            \n",
      "                                                                 \n",
      " deconv7 (Conv2DTranspose)   (None, 64, 64, 256)       590080    \n",
      "                                                                 \n",
      " bn20 (BatchNormalization)   (None, 64, 64, 256)       1024      \n",
      "                                                                 \n",
      " activation_97 (Activation)  (None, 64, 64, 256)       0         \n",
      "                                                                 \n",
      " deconv8 (Conv2DTranspose)   (None, 64, 64, 256)       590080    \n",
      "                                                                 \n",
      " bn21 (BatchNormalization)   (None, 64, 64, 256)       1024      \n",
      "                                                                 \n",
      " activation_98 (Activation)  (None, 64, 64, 256)       0         \n",
      "                                                                 \n",
      " deconv9 (Conv2DTranspose)   (None, 64, 64, 128)       295040    \n",
      "                                                                 \n",
      " bn22 (BatchNormalization)   (None, 64, 64, 128)       512       \n",
      "                                                                 \n",
      " activation_99 (Activation)  (None, 64, 64, 128)       0         \n",
      "                                                                 \n",
      " up_sampling2d_23 (UpSamplin  (None, 128, 128, 128)    0         \n",
      " g2D)                                                            \n",
      "                                                                 \n",
      " deconv10 (Conv2DTranspose)  (None, 128, 128, 128)     147584    \n",
      "                                                                 \n",
      " bn23 (BatchNormalization)   (None, 128, 128, 128)     512       \n",
      "                                                                 \n",
      " activation_100 (Activation)  (None, 128, 128, 128)    0         \n",
      "                                                                 \n",
      " deconv11 (Conv2DTranspose)  (None, 128, 128, 64)      73792     \n",
      "                                                                 \n",
      " bn24 (BatchNormalization)   (None, 128, 128, 64)      256       \n",
      "                                                                 \n",
      " activation_101 (Activation)  (None, 128, 128, 64)     0         \n",
      "                                                                 \n",
      " up_sampling2d_24 (UpSamplin  (None, 256, 256, 64)     0         \n",
      " g2D)                                                            \n",
      "                                                                 \n",
      " deconv12 (Conv2DTranspose)  (None, 256, 256, 64)      36928     \n",
      "                                                                 \n",
      " bn25 (BatchNormalization)   (None, 256, 256, 64)      256       \n",
      "                                                                 \n",
      " activation_102 (Activation)  (None, 256, 256, 64)     0         \n",
      "                                                                 \n",
      " deconv13 (Conv2DTranspose)  (None, 256, 256, 1)       577       \n",
      "                                                                 \n",
      " bn26 (BatchNormalization)   (None, 256, 256, 1)       4         \n",
      "                                                                 \n",
      " activation_103 (Activation)  (None, 256, 256, 1)      0         \n",
      "                                                                 \n",
      "=================================================================\n",
      "Total params: 33,393,669\n",
      "Trainable params: 33,377,795\n",
      "Non-trainable params: 15,874\n",
      "_________________________________________________________________\n",
      "Epoch 1/100\n",
      "400/400 [==============================] - 294s 692ms/step - loss: 0.4690 - accuracy: 0.8488 - val_loss: 0.4794 - val_accuracy: 0.7798\n",
      "Epoch 2/100\n",
      "400/400 [==============================] - 283s 706ms/step - loss: 0.3419 - accuracy: 0.8876 - val_loss: 0.3410 - val_accuracy: 0.8747\n",
      "Epoch 3/100\n",
      "400/400 [==============================] - 284s 710ms/step - loss: 0.3047 - accuracy: 0.8938 - val_loss: 0.3196 - val_accuracy: 0.8780\n",
      "Epoch 4/100\n",
      "400/400 [==============================] - 287s 717ms/step - loss: 0.2866 - accuracy: 0.8963 - val_loss: 0.3214 - val_accuracy: 0.8696\n",
      "Epoch 5/100\n",
      "400/400 [==============================] - 285s 713ms/step - loss: 0.2721 - accuracy: 0.9002 - val_loss: 0.3142 - val_accuracy: 0.8672\n",
      "Epoch 6/100\n",
      "400/400 [==============================] - 287s 714ms/step - loss: 0.2663 - accuracy: 0.9007 - val_loss: 0.3109 - val_accuracy: 0.8684\n",
      "Epoch 7/100\n",
      "400/400 [==============================] - 286s 714ms/step - loss: 0.2542 - accuracy: 0.9053 - val_loss: 0.3042 - val_accuracy: 0.8747\n",
      "Epoch 8/100\n",
      "400/400 [==============================] - 286s 714ms/step - loss: 0.2502 - accuracy: 0.9059 - val_loss: 0.3274 - val_accuracy: 0.8559\n",
      "Epoch 9/100\n",
      "400/400 [==============================] - 279s 698ms/step - loss: 0.2437 - accuracy: 0.9086 - val_loss: 0.2868 - val_accuracy: 0.8826\n",
      "Epoch 10/100\n",
      "400/400 [==============================] - 285s 713ms/step - loss: 0.2376 - accuracy: 0.9106 - val_loss: 0.3218 - val_accuracy: 0.8658\n",
      "Epoch 11/100\n",
      "400/400 [==============================] - 286s 715ms/step - loss: 0.2347 - accuracy: 0.9123 - val_loss: 0.2853 - val_accuracy: 0.8804\n",
      "Epoch 12/100\n",
      "400/400 [==============================] - 286s 716ms/step - loss: 0.2329 - accuracy: 0.9124 - val_loss: 0.2910 - val_accuracy: 0.8793\n",
      "Epoch 13/100\n",
      "400/400 [==============================] - 288s 719ms/step - loss: 0.2270 - accuracy: 0.9141 - val_loss: 0.2749 - val_accuracy: 0.8853\n",
      "Epoch 14/100\n",
      "400/400 [==============================] - 286s 716ms/step - loss: 0.2222 - accuracy: 0.9168 - val_loss: 0.3066 - val_accuracy: 0.8696\n",
      "Epoch 15/100\n",
      "400/400 [==============================] - 288s 720ms/step - loss: 0.2234 - accuracy: 0.9152 - val_loss: 0.3000 - val_accuracy: 0.8738\n",
      "Epoch 16/100\n",
      "400/400 [==============================] - 290s 724ms/step - loss: 0.2204 - accuracy: 0.9168 - val_loss: 0.2831 - val_accuracy: 0.8798\n",
      "Epoch 17/100\n",
      "400/400 [==============================] - 289s 721ms/step - loss: 0.2170 - accuracy: 0.9184 - val_loss: 0.2768 - val_accuracy: 0.8839\n",
      "Epoch 18/100\n",
      "400/400 [==============================] - 291s 727ms/step - loss: 0.2162 - accuracy: 0.9187 - val_loss: 0.2862 - val_accuracy: 0.8798\n",
      "Epoch 19/100\n",
      "400/400 [==============================] - 287s 716ms/step - loss: 0.2137 - accuracy: 0.9196 - val_loss: 0.3020 - val_accuracy: 0.8745\n",
      "Epoch 20/100\n",
      "400/400 [==============================] - 287s 716ms/step - loss: 0.2121 - accuracy: 0.9196 - val_loss: 0.2810 - val_accuracy: 0.8821\n",
      "Epoch 21/100\n",
      "400/400 [==============================] - 284s 711ms/step - loss: 0.2081 - accuracy: 0.9209 - val_loss: 0.3007 - val_accuracy: 0.8733\n",
      "Epoch 22/100\n",
      "400/400 [==============================] - 279s 698ms/step - loss: 0.2120 - accuracy: 0.9190 - val_loss: 0.3081 - val_accuracy: 0.8705\n",
      "Epoch 23/100\n",
      "400/400 [==============================] - 288s 719ms/step - loss: 0.2061 - accuracy: 0.9218 - val_loss: 0.2861 - val_accuracy: 0.8754\n",
      "Epoch 24/100\n",
      "400/400 [==============================] - 280s 698ms/step - loss: 0.2047 - accuracy: 0.9223 - val_loss: 0.3074 - val_accuracy: 0.8697\n",
      "Epoch 25/100\n",
      "400/400 [==============================] - 292s 728ms/step - loss: 0.2044 - accuracy: 0.9225 - val_loss: 0.2875 - val_accuracy: 0.8779\n",
      "Epoch 26/100\n",
      "400/400 [==============================] - 289s 722ms/step - loss: 0.2030 - accuracy: 0.9233 - val_loss: 0.2762 - val_accuracy: 0.8843\n",
      "Epoch 27/100\n",
      "400/400 [==============================] - 278s 696ms/step - loss: 0.2025 - accuracy: 0.9235 - val_loss: 0.2805 - val_accuracy: 0.8810\n",
      "Epoch 28/100\n",
      "400/400 [==============================] - 282s 704ms/step - loss: 0.1993 - accuracy: 0.9243 - val_loss: 0.2925 - val_accuracy: 0.8762\n",
      "Epoch 29/100\n",
      "400/400 [==============================] - 287s 717ms/step - loss: 0.1993 - accuracy: 0.9243 - val_loss: 0.2787 - val_accuracy: 0.8832\n",
      "Epoch 30/100\n",
      "400/400 [==============================] - 285s 710ms/step - loss: 0.1971 - accuracy: 0.9255 - val_loss: 0.2865 - val_accuracy: 0.8804\n",
      "Epoch 31/100\n",
      "400/400 [==============================] - 289s 722ms/step - loss: 0.1995 - accuracy: 0.9242 - val_loss: 0.2692 - val_accuracy: 0.8866\n",
      "Epoch 32/100\n",
      "400/400 [==============================] - 286s 715ms/step - loss: 0.1972 - accuracy: 0.9253 - val_loss: 0.2904 - val_accuracy: 0.8782\n",
      "Epoch 33/100\n",
      "400/400 [==============================] - 289s 722ms/step - loss: 0.1958 - accuracy: 0.9259 - val_loss: 0.3068 - val_accuracy: 0.8721\n",
      "Epoch 34/100\n",
      "400/400 [==============================] - 286s 716ms/step - loss: 0.1948 - accuracy: 0.9254 - val_loss: 0.2716 - val_accuracy: 0.8867\n",
      "Epoch 35/100\n",
      "400/400 [==============================] - 287s 717ms/step - loss: 0.1946 - accuracy: 0.9257 - val_loss: 0.2795 - val_accuracy: 0.8827\n",
      "Epoch 36/100\n",
      "400/400 [==============================] - 286s 714ms/step - loss: 0.1915 - accuracy: 0.9274 - val_loss: 0.2911 - val_accuracy: 0.8781\n",
      "Epoch 37/100\n",
      "400/400 [==============================] - 281s 703ms/step - loss: 0.1956 - accuracy: 0.9257 - val_loss: 0.2912 - val_accuracy: 0.8770\n",
      "Epoch 38/100\n",
      "400/400 [==============================] - 278s 694ms/step - loss: 0.1911 - accuracy: 0.9275 - val_loss: 0.2948 - val_accuracy: 0.8783\n",
      "Epoch 39/100\n",
      "400/400 [==============================] - 279s 696ms/step - loss: 0.1906 - accuracy: 0.9276 - val_loss: 0.2744 - val_accuracy: 0.8851\n",
      "Epoch 40/100\n",
      "400/400 [==============================] - 286s 714ms/step - loss: 0.1912 - accuracy: 0.9274 - val_loss: 0.3047 - val_accuracy: 0.8734\n",
      "Epoch 41/100\n",
      "400/400 [==============================] - 285s 712ms/step - loss: 0.1906 - accuracy: 0.9274 - val_loss: 0.3011 - val_accuracy: 0.8732\n",
      "Epoch 42/100\n",
      "400/400 [==============================] - 277s 691ms/step - loss: 0.1876 - accuracy: 0.9282 - val_loss: 0.3147 - val_accuracy: 0.8690\n",
      "Epoch 43/100\n",
      "400/400 [==============================] - 289s 721ms/step - loss: 0.1883 - accuracy: 0.9283 - val_loss: 0.3052 - val_accuracy: 0.8752\n",
      "Epoch 44/100\n",
      "400/400 [==============================] - 290s 724ms/step - loss: 0.1888 - accuracy: 0.9285 - val_loss: 0.2830 - val_accuracy: 0.8815\n",
      "Epoch 45/100\n",
      "400/400 [==============================] - 283s 706ms/step - loss: 0.1869 - accuracy: 0.9295 - val_loss: 0.2867 - val_accuracy: 0.8820\n",
      "Epoch 46/100\n",
      "400/400 [==============================] - 291s 724ms/step - loss: 0.1879 - accuracy: 0.9280 - val_loss: 0.2814 - val_accuracy: 0.8829\n",
      "Epoch 47/100\n",
      "400/400 [==============================] - 291s 727ms/step - loss: 0.1865 - accuracy: 0.9286 - val_loss: 0.2919 - val_accuracy: 0.8785\n",
      "Epoch 48/100\n",
      "400/400 [==============================] - 280s 700ms/step - loss: 0.1848 - accuracy: 0.9301 - val_loss: 0.2832 - val_accuracy: 0.8834\n",
      "Epoch 49/100\n",
      "400/400 [==============================] - 292s 729ms/step - loss: 0.1866 - accuracy: 0.9293 - val_loss: 0.2743 - val_accuracy: 0.8859\n",
      "Epoch 50/100\n",
      "400/400 [==============================] - 293s 730ms/step - loss: 0.1869 - accuracy: 0.9288 - val_loss: 0.2939 - val_accuracy: 0.8762\n",
      "Epoch 51/100\n",
      "400/400 [==============================] - 294s 735ms/step - loss: 0.1839 - accuracy: 0.9299 - val_loss: 0.2972 - val_accuracy: 0.8762\n",
      "Epoch 52/100\n",
      "400/400 [==============================] - 295s 736ms/step - loss: 0.1842 - accuracy: 0.9299 - val_loss: 0.3187 - val_accuracy: 0.8672\n",
      "Epoch 53/100\n",
      "400/400 [==============================] - 293s 730ms/step - loss: 0.1824 - accuracy: 0.9308 - val_loss: 0.2837 - val_accuracy: 0.8835\n",
      "Epoch 54/100\n",
      "400/400 [==============================] - 291s 727ms/step - loss: 0.1842 - accuracy: 0.9303 - val_loss: 0.2983 - val_accuracy: 0.8772\n",
      "Epoch 55/100\n",
      "400/400 [==============================] - 288s 720ms/step - loss: 0.1821 - accuracy: 0.9309 - val_loss: 0.2863 - val_accuracy: 0.8802\n",
      "Epoch 56/100\n",
      "400/400 [==============================] - 290s 723ms/step - loss: 0.1812 - accuracy: 0.9307 - val_loss: 0.2946 - val_accuracy: 0.8790\n",
      "Epoch 57/100\n",
      "400/400 [==============================] - 288s 720ms/step - loss: 0.1816 - accuracy: 0.9304 - val_loss: 0.3010 - val_accuracy: 0.8781\n",
      "Epoch 58/100\n",
      "400/400 [==============================] - 289s 721ms/step - loss: 0.1802 - accuracy: 0.9309 - val_loss: 0.2907 - val_accuracy: 0.8799\n",
      "Epoch 59/100\n",
      "400/400 [==============================] - 295s 736ms/step - loss: 0.1825 - accuracy: 0.9305 - val_loss: 0.2967 - val_accuracy: 0.8781\n",
      "Epoch 60/100\n",
      "400/400 [==============================] - 294s 734ms/step - loss: 0.1790 - accuracy: 0.9316 - val_loss: 0.2860 - val_accuracy: 0.8812\n",
      "Epoch 61/100\n",
      "400/400 [==============================] - 293s 731ms/step - loss: 0.1770 - accuracy: 0.9324 - val_loss: 0.2815 - val_accuracy: 0.8843\n",
      "Epoch 62/100\n",
      "400/400 [==============================] - 278s 695ms/step - loss: 0.1808 - accuracy: 0.9311 - val_loss: 0.3031 - val_accuracy: 0.8758\n",
      "Epoch 63/100\n",
      "400/400 [==============================] - 278s 694ms/step - loss: 0.1795 - accuracy: 0.9316 - val_loss: 0.2798 - val_accuracy: 0.8837\n",
      "Epoch 64/100\n",
      "400/400 [==============================] - 278s 695ms/step - loss: 0.1789 - accuracy: 0.9318 - val_loss: 0.3056 - val_accuracy: 0.8765\n",
      "Epoch 65/100\n",
      "400/400 [==============================] - 278s 694ms/step - loss: 0.1788 - accuracy: 0.9317 - val_loss: 0.2996 - val_accuracy: 0.8764\n",
      "Epoch 66/100\n",
      "400/400 [==============================] - 278s 694ms/step - loss: 0.1755 - accuracy: 0.9329 - val_loss: 0.2927 - val_accuracy: 0.8799\n",
      "Epoch 67/100\n",
      "400/400 [==============================] - 278s 694ms/step - loss: 0.1740 - accuracy: 0.9330 - val_loss: 0.3039 - val_accuracy: 0.8754\n",
      "Epoch 68/100\n",
      "400/400 [==============================] - 295s 737ms/step - loss: 0.1746 - accuracy: 0.9335 - val_loss: 0.2991 - val_accuracy: 0.8760\n",
      "Epoch 69/100\n",
      "400/400 [==============================] - 289s 721ms/step - loss: 0.1774 - accuracy: 0.9320 - val_loss: 0.3136 - val_accuracy: 0.8722\n",
      "Epoch 70/100\n",
      "400/400 [==============================] - 288s 720ms/step - loss: 0.1745 - accuracy: 0.9332 - val_loss: 0.2747 - val_accuracy: 0.8867\n",
      "Epoch 71/100\n",
      "400/400 [==============================] - 283s 707ms/step - loss: 0.1759 - accuracy: 0.9329 - val_loss: 0.3035 - val_accuracy: 0.8754\n",
      "Epoch 72/100\n",
      "400/400 [==============================] - 286s 716ms/step - loss: 0.1771 - accuracy: 0.9320 - val_loss: 0.3101 - val_accuracy: 0.8742\n",
      "Epoch 73/100\n",
      "400/400 [==============================] - 289s 721ms/step - loss: 0.1764 - accuracy: 0.9321 - val_loss: 0.2935 - val_accuracy: 0.8807\n",
      "Epoch 74/100\n",
      "400/400 [==============================] - 289s 722ms/step - loss: 0.1784 - accuracy: 0.9322 - val_loss: 0.2908 - val_accuracy: 0.8801\n",
      "Epoch 75/100\n",
      "400/400 [==============================] - 288s 720ms/step - loss: 0.1731 - accuracy: 0.9339 - val_loss: 0.2956 - val_accuracy: 0.8797\n",
      "Epoch 76/100\n",
      "400/400 [==============================] - 289s 723ms/step - loss: 0.1724 - accuracy: 0.9338 - val_loss: 0.3075 - val_accuracy: 0.8762\n",
      "Epoch 77/100\n",
      "400/400 [==============================] - 298s 745ms/step - loss: 0.1743 - accuracy: 0.9338 - val_loss: 0.3032 - val_accuracy: 0.8772\n",
      "Epoch 78/100\n"
     ]
    },
    {
     "name": "stdout",
     "output_type": "stream",
     "text": [
      "400/400 [==============================] - 294s 734ms/step - loss: 0.1714 - accuracy: 0.9344 - val_loss: 0.3223 - val_accuracy: 0.8681\n",
      "Epoch 79/100\n",
      "400/400 [==============================] - 297s 741ms/step - loss: 0.1753 - accuracy: 0.9329 - val_loss: 0.2720 - val_accuracy: 0.8888\n",
      "Epoch 80/100\n",
      "400/400 [==============================] - 294s 734ms/step - loss: 0.1749 - accuracy: 0.9333 - val_loss: 0.3214 - val_accuracy: 0.8696\n",
      "Epoch 81/100\n",
      "400/400 [==============================] - 296s 741ms/step - loss: 0.1706 - accuracy: 0.9354 - val_loss: 0.3264 - val_accuracy: 0.8696\n",
      "Epoch 82/100\n",
      "400/400 [==============================] - 291s 727ms/step - loss: 0.1733 - accuracy: 0.9337 - val_loss: 0.2888 - val_accuracy: 0.8831\n",
      "Epoch 83/100\n",
      "400/400 [==============================] - 290s 724ms/step - loss: 0.1703 - accuracy: 0.9347 - val_loss: 0.2988 - val_accuracy: 0.8803\n",
      "Epoch 84/100\n",
      "400/400 [==============================] - 293s 732ms/step - loss: 0.1704 - accuracy: 0.9349 - val_loss: 0.2845 - val_accuracy: 0.8833\n",
      "Epoch 85/100\n",
      "400/400 [==============================] - 289s 721ms/step - loss: 0.1733 - accuracy: 0.9340 - val_loss: 0.3053 - val_accuracy: 0.8757\n",
      "Epoch 86/100\n",
      "400/400 [==============================] - 288s 720ms/step - loss: 0.1693 - accuracy: 0.9351 - val_loss: 0.3095 - val_accuracy: 0.8753\n",
      "Epoch 87/100\n",
      "400/400 [==============================] - 292s 727ms/step - loss: 0.1696 - accuracy: 0.9350 - val_loss: 0.2923 - val_accuracy: 0.8819\n",
      "Epoch 88/100\n",
      "400/400 [==============================] - 291s 726ms/step - loss: 0.1724 - accuracy: 0.9340 - val_loss: 0.3012 - val_accuracy: 0.8777\n",
      "Epoch 89/100\n",
      "400/400 [==============================] - 304s 758ms/step - loss: 0.1703 - accuracy: 0.9346 - val_loss: 0.3207 - val_accuracy: 0.8738\n",
      "Epoch 90/100\n",
      "400/400 [==============================] - 284s 705ms/step - loss: 0.1684 - accuracy: 0.9354 - val_loss: 0.3327 - val_accuracy: 0.8691\n",
      "Epoch 91/100\n",
      "400/400 [==============================] - 289s 722ms/step - loss: 0.1704 - accuracy: 0.9349 - val_loss: 0.3125 - val_accuracy: 0.8754\n",
      "Epoch 92/100\n",
      "400/400 [==============================] - 290s 724ms/step - loss: 0.1676 - accuracy: 0.9361 - val_loss: 0.3128 - val_accuracy: 0.8773\n",
      "Epoch 93/100\n",
      "400/400 [==============================] - 286s 715ms/step - loss: 0.1666 - accuracy: 0.9358 - val_loss: 0.3064 - val_accuracy: 0.8786\n",
      "Epoch 94/100\n",
      "400/400 [==============================] - 287s 717ms/step - loss: 0.1704 - accuracy: 0.9342 - val_loss: 0.3240 - val_accuracy: 0.8716\n",
      "Epoch 95/100\n",
      "400/400 [==============================] - 289s 722ms/step - loss: 0.1692 - accuracy: 0.9351 - val_loss: 0.3149 - val_accuracy: 0.8756\n",
      "Epoch 96/100\n",
      "400/400 [==============================] - 283s 706ms/step - loss: 0.1671 - accuracy: 0.9358 - val_loss: 0.2929 - val_accuracy: 0.8815\n",
      "Epoch 97/100\n",
      "400/400 [==============================] - 292s 729ms/step - loss: 0.1677 - accuracy: 0.9359 - val_loss: 0.3079 - val_accuracy: 0.8772\n",
      "Epoch 98/100\n",
      "400/400 [==============================] - 291s 726ms/step - loss: 0.1688 - accuracy: 0.9353 - val_loss: 0.3230 - val_accuracy: 0.8727\n",
      "Epoch 99/100\n",
      "400/400 [==============================] - 290s 724ms/step - loss: 0.1692 - accuracy: 0.9352 - val_loss: 0.3067 - val_accuracy: 0.8773\n",
      "Epoch 100/100\n",
      "400/400 [==============================] - 290s 725ms/step - loss: 0.1692 - accuracy: 0.9353 - val_loss: 0.3309 - val_accuracy: 0.8706\n"
     ]
    }
   ],
   "source": [
    "model, hist = segnet(epochs_num= 100, savename= 'segnet_100_epoch.h5')"
   ]
  },
  {
   "cell_type": "code",
   "execution_count": 38,
   "id": "46a322e0",
   "metadata": {},
   "outputs": [],
   "source": [
    "model.load_weights('segnet_100_epoch.h5')"
   ]
  },
  {
   "cell_type": "markdown",
   "id": "2b70d7ec",
   "metadata": {},
   "source": [
    "**Plotting Training Statistics**"
   ]
  },
  {
   "cell_type": "code",
   "execution_count": 40,
   "id": "4d1db853",
   "metadata": {},
   "outputs": [
    {
     "data": {
      "image/png": "[encoded data removed]",
      "text/plain": [
       "<Figure size 1440x1008 with 4 Axes>"
      ]
     },
     "metadata": {
      "needs_background": "light"
     },
     "output_type": "display_data"
    }
   ],
   "source": [
    "plt.figure(figsize=(20, 14))\n",
    "plt.suptitle('Training Statistics on Train Set')\n",
    "plt.subplot(2,2,1)\n",
    "plt.plot(hist.history['loss'], 'red')\n",
    "plt.title('Loss')\n",
    "plt.subplot(2,2,2)\n",
    "plt.plot(hist.history['accuracy'], 'green')\n",
    "plt.title('Accuracy')\n",
    "plt.subplot(2,2,3)\n",
    "plt.plot(hist.history['val_loss'], 'red')\n",
    "plt.yticks(list(np.arange(0.0, 1.0, 0.10)))\n",
    "plt.title('Valdiation Loss')\n",
    "plt.subplot(2,2,4)\n",
    "plt.plot(hist.history['val_accuracy'], 'green')\n",
    "plt.yticks(list(np.arange(0.0, 1.0, 0.10)))\n",
    "plt.title('Validation Accuracy')\n",
    "plt.show()"
   ]
  },
  {
   "cell_type": "code",
   "execution_count": 41,
   "id": "78a1acc5",
   "metadata": {},
   "outputs": [],
   "source": [
    "predict_path_raw = 'D:/faculty/4/Graduation_Project_ideas/7-medical dignoise/data\\Lesion/Val/'\n",
    "predict_path_mask= 'D:/faculty/4/Graduation_Project_ideas/7-medical dignoise/data/Lesion/Val_gt/'\n",
    "\n",
    "predict_raw = os.listdir(predict_path_raw)\n",
    "\n",
    "predict_mask = os.listdir(predict_path_mask)"
   ]
  },
  {
   "cell_type": "code",
   "execution_count": 48,
   "id": "bcd2b80b",
   "metadata": {},
   "outputs": [
    {
     "name": "stdout",
     "output_type": "stream",
     "text": [
      "1/1 [==============================] - 0s 149ms/step\n"
     ]
    },
    {
     "data": {
      "text/plain": [
       "<matplotlib.image.AxesImage at 0x1eb416a2610>"
      ]
     },
     "execution_count": 48,
     "metadata": {},
     "output_type": "execute_result"
    },
    {
     "data": {
      "image/png": "[encoded data removed]",
      "text/plain": [
       "<Figure size 432x288 with 3 Axes>"
      ]
     },
     "metadata": {
      "needs_background": "light"
     },
     "output_type": "display_data"
    }
   ],
   "source": [
    "# run this cell several times. each time you should see a new image and its results\n",
    "\n",
    "m = random.randint(0, len(predict_raw)-1)\n",
    "\n",
    "img_raw=sitk.ReadImage(os.path.join(predict_path_raw,predict_raw[m]))\n",
    "img_array_raw= sitk.GetArrayFromImage(img_raw)\n",
    "img_array_raw=img_array_raw/255.0\n",
    "\n",
    "testing=np.expand_dims(img_array_raw, axis=0)\n",
    "\n",
    "img_array_mask=cv.imread(os.path.join(predict_path_mask,predict_mask[m]))\n",
    "img_array_mask=img_array_mask/255.0\n",
    "\n",
    "\n",
    "result= model.predict(testing)               # used to predict the result\n",
    "result=result>0.5\n",
    "predict_result =np.squeeze(result,axis=0)\n",
    "\n",
    "fig = plt.figure()                                # plotting the results\n",
    "fig.subplots_adjust(hspace=0.4, wspace=0.4)\n",
    "\n",
    "ax = fig.add_subplot(1, 3, 1)                     # the original validation image\n",
    "ax.imshow(img_array_raw)\n",
    "\n",
    "ax = fig.add_subplot(1, 3, 2)                     # the ground truth provided\n",
    "ax.imshow(img_array_mask, cmap=\"gray\")\n",
    "\n",
    "ax = fig.add_subplot(1, 3, 3)                     # segmentation predicted by our neural net model\n",
    "ax.imshow(predict_result*255, cmap=\"gray\")"
   ]
  },
  {
   "cell_type": "code",
   "execution_count": 51,
   "id": "807ee8bf",
   "metadata": {},
   "outputs": [
    {
     "name": "stdout",
     "output_type": "stream",
     "text": [
      "1/1 [==============================] - 0s 152ms/step\n"
     ]
    },
    {
     "data": {
      "text/plain": [
       "<matplotlib.image.AxesImage at 0x1e90ea96700>"
      ]
     },
     "execution_count": 51,
     "metadata": {},
     "output_type": "execute_result"
    },
    {
     "data": {
      "image/png": "[encoded data removed]",
      "text/plain": [
       "<Figure size 432x288 with 3 Axes>"
      ]
     },
     "metadata": {
      "needs_background": "light"
     },
     "output_type": "display_data"
    }
   ],
   "source": [
    "# run this cell several times. each time you should see a new image and its results\n",
    "\n",
    "m = random.randint(0, len(predict_raw)-1)\n",
    "\n",
    "img_raw=sitk.ReadImage(os.path.join(predict_path_raw,predict_raw[m]))\n",
    "img_array_raw= sitk.GetArrayFromImage(img_raw)\n",
    "img_array_raw=img_array_raw/255.0\n",
    "\n",
    "testing=np.expand_dims(img_array_raw, axis=0)\n",
    "\n",
    "img_array_mask=cv.imread(os.path.join(predict_path_mask,predict_mask[m]))\n",
    "img_array_mask=img_array_mask/255.0\n",
    "\n",
    "\n",
    "result= model.predict(testing)               # used to predict the result\n",
    "result=result>0.5\n",
    "predict_result =np.squeeze(result,axis=0)\n",
    "\n",
    "fig = plt.figure()                                # plotting the results\n",
    "fig.subplots_adjust(hspace=0.4, wspace=0.4)\n",
    "\n",
    "ax = fig.add_subplot(1, 3, 1)                     # the original validation image\n",
    "ax.imshow(img_array_raw)\n",
    "\n",
    "ax = fig.add_subplot(1, 3, 2)                     # the ground truth provided\n",
    "ax.imshow(img_array_mask, cmap=\"gray\")\n",
    "\n",
    "ax = fig.add_subplot(1, 3, 3)                     # segmentation predicted by our neural net model\n",
    "ax.imshow(predict_result*255, cmap=\"gray\")"
   ]
  },
  {
   "cell_type": "code",
   "execution_count": 53,
   "id": "98556c9a",
   "metadata": {},
   "outputs": [
    {
     "name": "stdout",
     "output_type": "stream",
     "text": [
      "1/1 [==============================] - 0s 155ms/step\n"
     ]
    },
    {
     "data": {
      "text/plain": [
       "<matplotlib.image.AxesImage at 0x1e9101b7760>"
      ]
     },
     "execution_count": 53,
     "metadata": {},
     "output_type": "execute_result"
    },
    {
     "data": {
      "image/png": "[encoded data removed]",
      "text/plain": [
       "<Figure size 432x288 with 3 Axes>"
      ]
     },
     "metadata": {
      "needs_background": "light"
     },
     "output_type": "display_data"
    }
   ],
   "source": [
    "# run this cell several times. each time you should see a new image and its results\n",
    "\n",
    "m = random.randint(0, len(predict_raw)-1)\n",
    "\n",
    "img_raw=sitk.ReadImage(os.path.join(predict_path_raw,predict_raw[m]))\n",
    "img_array_raw= sitk.GetArrayFromImage(img_raw)\n",
    "img_array_raw=img_array_raw/255.0\n",
    "\n",
    "testing=np.expand_dims(img_array_raw, axis=0)\n",
    "\n",
    "img_array_mask=cv.imread(os.path.join(predict_path_mask,predict_mask[m]))\n",
    "img_array_mask=img_array_mask/255.0\n",
    "\n",
    "\n",
    "result= model.predict(testing)               # used to predict the result\n",
    "result=result>0.5\n",
    "predict_result =np.squeeze(result,axis=0)\n",
    "\n",
    "fig = plt.figure()                                # plotting the results\n",
    "fig.subplots_adjust(hspace=0.4, wspace=0.4)\n",
    "\n",
    "ax = fig.add_subplot(1, 3, 1)                     # the original validation image\n",
    "ax.imshow(img_array_raw)\n",
    "\n",
    "ax = fig.add_subplot(1, 3, 2)                     # the ground truth provided\n",
    "ax.imshow(img_array_mask, cmap=\"gray\")\n",
    "\n",
    "ax = fig.add_subplot(1, 3, 3)                     # segmentation predicted by our neural net model\n",
    "ax.imshow(predict_result*255, cmap=\"gray\")"
   ]
  },
  {
   "cell_type": "code",
   "execution_count": 54,
   "id": "dd15a0aa",
   "metadata": {},
   "outputs": [],
   "source": [
    "model_json = model.to_json()"
   ]
  },
  {
   "cell_type": "code",
   "execution_count": 55,
   "id": "29a8f013",
   "metadata": {},
   "outputs": [],
   "source": [
    "with open(\"model.json\", \"w\") as json_file:\n",
    "    json_file.write(model_json)"
   ]
  },
  {
   "cell_type": "code",
   "execution_count": null,
   "id": "f6f67238",
   "metadata": {},
   "outputs": [],
   "source": []
  },
  {
   "cell_type": "code",
   "execution_count": null,
   "id": "1b6ea802",
   "metadata": {},
   "outputs": [],
   "source": []
  },
  {
   "cell_type": "code",
   "execution_count": null,
   "id": "d8fe0d26",
   "metadata": {},
   "outputs": [],
   "source": []
  },
  {
   "cell_type": "code",
   "execution_count": null,
   "id": "61aa1abd",
   "metadata": {},
   "outputs": [],
   "source": []
  },
  {
   "cell_type": "code",
   "execution_count": 18,
   "id": "93d3bb92",
   "metadata": {},
   "outputs": [],
   "source": [
    "from tensorflow import keras\n",
    "\n",
    "m = keras.models.load_model(\"segnet_100_epoch.h5\")"
   ]
  },
  {
   "cell_type": "code",
   "execution_count": 19,
   "id": "02cd2c3b",
   "metadata": {},
   "outputs": [
    {
     "ename": "AttributeError",
     "evalue": "'NoneType' object has no attribute 'history'",
     "output_type": "error",
     "traceback": [
      "\u001b[1;31m---------------------------------------------------------------------------\u001b[0m",
      "\u001b[1;31mAttributeError\u001b[0m                            Traceback (most recent call last)",
      "Input \u001b[1;32mIn [19]\u001b[0m, in \u001b[0;36m<cell line: 1>\u001b[1;34m()\u001b[0m\n\u001b[1;32m----> 1\u001b[0m losse \u001b[38;5;241m=\u001b[39m pd\u001b[38;5;241m.\u001b[39mDataFrame(\u001b[43mm\u001b[49m\u001b[38;5;241;43m.\u001b[39;49m\u001b[43mhistory\u001b[49m\u001b[38;5;241;43m.\u001b[39;49m\u001b[43mhistory\u001b[49m)\n\u001b[0;32m      2\u001b[0m losse\u001b[38;5;241m.\u001b[39mhead()\n",
      "\u001b[1;31mAttributeError\u001b[0m: 'NoneType' object has no attribute 'history'"
     ]
    }
   ],
   "source": [
    "losse = pd.DataFrame(m.history.history)\n",
    "losse.head()"
   ]
  },
  {
   "cell_type": "code",
   "execution_count": null,
   "id": "0e8289a2",
   "metadata": {},
   "outputs": [],
   "source": []
  }
 ],
 "metadata": {
  "kernelspec": {
   "display_name": "gpu3",
   "language": "python",
   "name": "gpu3"
  },
  "language_info": {
   "codemirror_mode": {
    "name": "ipython",
    "version": 3
   },
   "file_extension": ".py",
   "mimetype": "text/x-python",
   "name": "python",
   "nbconvert_exporter": "python",
   "pygments_lexer": "ipython3",
   "version": "3.8.8"
  }
 },
 "nbformat": 4,
 "nbformat_minor": 5
}
